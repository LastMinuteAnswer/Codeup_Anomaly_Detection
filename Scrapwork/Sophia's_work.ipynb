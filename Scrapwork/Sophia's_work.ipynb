{
 "cells": [
  {
   "cell_type": "markdown",
   "id": "37a6b2f5",
   "metadata": {},
   "source": [
    "# Project Work\n",
    "---\n",
    "\n",
    "## Questions to Answer:\n",
    "\n",
    "### 1. Which lesson appears to attract the most traffic consistently across cohorts (per program)?\n",
    "- could create separate dataframes for each program\n",
    "- group by `name` and look at most frequent `path` values\n",
    "- look at this after grouping `path` values into modules.\n",
    "\n",
    "### 3. Are there students who, when active, hardly access the curriculum? If so, what information do you have about these students?\n",
    "- look for users with low count of requests between `start_date` and `end_date`\n",
    "- we have their ip, start/end dates, and program type\n",
    "\n",
    "### 6. What topics are grads continuing to reference after graduation and into their jobs (for each program)?\n",
    "- look for most frequent `path` values accessed after `end_date`\n",
    " - too many unique paths to get useful info\n",
    "- group by module to see which modules are most often referenced by grads\n",
    "\n",
    "### 7. Which lessons are least accessed?\n",
    "- look for least common module\n",
    "- do this after grouping `path` values into modules."
   ]
  },
  {
   "cell_type": "code",
   "execution_count": 1,
   "id": "e928e87f",
   "metadata": {},
   "outputs": [
    {
     "data": {
      "text/html": [
       "<div>\n",
       "<style scoped>\n",
       "    .dataframe tbody tr th:only-of-type {\n",
       "        vertical-align: middle;\n",
       "    }\n",
       "\n",
       "    .dataframe tbody tr th {\n",
       "        vertical-align: top;\n",
       "    }\n",
       "\n",
       "    .dataframe thead th {\n",
       "        text-align: right;\n",
       "    }\n",
       "</style>\n",
       "<table border=\"1\" class=\"dataframe\">\n",
       "  <thead>\n",
       "    <tr style=\"text-align: right;\">\n",
       "      <th></th>\n",
       "      <th>path</th>\n",
       "      <th>ip</th>\n",
       "      <th>user_id</th>\n",
       "      <th>name</th>\n",
       "      <th>program_id</th>\n",
       "      <th>start_date</th>\n",
       "      <th>end_date</th>\n",
       "      <th>program_name</th>\n",
       "    </tr>\n",
       "  </thead>\n",
       "  <tbody>\n",
       "    <tr>\n",
       "      <th>2018-01-26 09:55:03</th>\n",
       "      <td>/</td>\n",
       "      <td>97.105.19.61</td>\n",
       "      <td>1</td>\n",
       "      <td>Hampton</td>\n",
       "      <td>1</td>\n",
       "      <td>2015-09-22</td>\n",
       "      <td>2016-02-06</td>\n",
       "      <td>WebDev-PHP</td>\n",
       "    </tr>\n",
       "    <tr>\n",
       "      <th>2018-01-26 09:56:02</th>\n",
       "      <td>java-ii</td>\n",
       "      <td>97.105.19.61</td>\n",
       "      <td>1</td>\n",
       "      <td>Hampton</td>\n",
       "      <td>1</td>\n",
       "      <td>2015-09-22</td>\n",
       "      <td>2016-02-06</td>\n",
       "      <td>WebDev-PHP</td>\n",
       "    </tr>\n",
       "    <tr>\n",
       "      <th>2018-01-26 09:56:05</th>\n",
       "      <td>java-ii/object-oriented-programming</td>\n",
       "      <td>97.105.19.61</td>\n",
       "      <td>1</td>\n",
       "      <td>Hampton</td>\n",
       "      <td>1</td>\n",
       "      <td>2015-09-22</td>\n",
       "      <td>2016-02-06</td>\n",
       "      <td>WebDev-PHP</td>\n",
       "    </tr>\n",
       "    <tr>\n",
       "      <th>2018-01-26 09:56:06</th>\n",
       "      <td>slides/object_oriented_programming</td>\n",
       "      <td>97.105.19.61</td>\n",
       "      <td>1</td>\n",
       "      <td>Hampton</td>\n",
       "      <td>1</td>\n",
       "      <td>2015-09-22</td>\n",
       "      <td>2016-02-06</td>\n",
       "      <td>WebDev-PHP</td>\n",
       "    </tr>\n",
       "    <tr>\n",
       "      <th>2018-01-26 09:56:24</th>\n",
       "      <td>javascript-i/conditionals</td>\n",
       "      <td>97.105.19.61</td>\n",
       "      <td>2</td>\n",
       "      <td>Teddy</td>\n",
       "      <td>2</td>\n",
       "      <td>2018-01-08</td>\n",
       "      <td>2018-05-17</td>\n",
       "      <td>WebDev-Java</td>\n",
       "    </tr>\n",
       "  </tbody>\n",
       "</table>\n",
       "</div>"
      ],
      "text/plain": [
       "                                                    path            ip  \\\n",
       "2018-01-26 09:55:03                                    /  97.105.19.61   \n",
       "2018-01-26 09:56:02                              java-ii  97.105.19.61   \n",
       "2018-01-26 09:56:05  java-ii/object-oriented-programming  97.105.19.61   \n",
       "2018-01-26 09:56:06   slides/object_oriented_programming  97.105.19.61   \n",
       "2018-01-26 09:56:24            javascript-i/conditionals  97.105.19.61   \n",
       "\n",
       "                     user_id     name  program_id  start_date    end_date  \\\n",
       "2018-01-26 09:55:03        1  Hampton           1  2015-09-22  2016-02-06   \n",
       "2018-01-26 09:56:02        1  Hampton           1  2015-09-22  2016-02-06   \n",
       "2018-01-26 09:56:05        1  Hampton           1  2015-09-22  2016-02-06   \n",
       "2018-01-26 09:56:06        1  Hampton           1  2015-09-22  2016-02-06   \n",
       "2018-01-26 09:56:24        2    Teddy           2  2018-01-08  2018-05-17   \n",
       "\n",
       "                    program_name  \n",
       "2018-01-26 09:55:03   WebDev-PHP  \n",
       "2018-01-26 09:56:02   WebDev-PHP  \n",
       "2018-01-26 09:56:05   WebDev-PHP  \n",
       "2018-01-26 09:56:06   WebDev-PHP  \n",
       "2018-01-26 09:56:24  WebDev-Java  "
      ]
     },
     "execution_count": 1,
     "metadata": {},
     "output_type": "execute_result"
    }
   ],
   "source": [
    "# imports\n",
    "import wrangle as w\n",
    "import pandas as pd\n",
    "\n",
    "# wrangle data\n",
    "logs = w.wrangle_logs()\n",
    "# preview data\n",
    "logs.head()"
   ]
  },
  {
   "cell_type": "code",
   "execution_count": 2,
   "id": "ae58b0ce",
   "metadata": {},
   "outputs": [
    {
     "name": "stdout",
     "output_type": "stream",
     "text": [
      "<class 'pandas.core.frame.DataFrame'>\n",
      "DatetimeIndex: 847330 entries, 2018-01-26 09:55:03 to 2021-04-21 16:44:39\n",
      "Data columns (total 8 columns):\n",
      " #   Column        Non-Null Count   Dtype \n",
      "---  ------        --------------   ----- \n",
      " 0   path          847329 non-null  object\n",
      " 1   ip            847330 non-null  object\n",
      " 2   user_id       847330 non-null  int64 \n",
      " 3   name          847330 non-null  object\n",
      " 4   program_id    847330 non-null  int64 \n",
      " 5   start_date    847330 non-null  object\n",
      " 6   end_date      847330 non-null  object\n",
      " 7   program_name  847330 non-null  object\n",
      "dtypes: int64(2), object(6)\n",
      "memory usage: 58.2+ MB\n"
     ]
    }
   ],
   "source": [
    "# check for any nulls\n",
    "logs.info()"
   ]
  },
  {
   "cell_type": "code",
   "execution_count": 3,
   "id": "6d58aaba",
   "metadata": {},
   "outputs": [
    {
     "data": {
      "text/plain": [
       "app                                        1\n",
       "examples/css/..%c0%af                      1\n",
       "student/120                                1\n",
       "prework/cli/03-filepaths                   1\n",
       "sql/database                               1\n",
       "                                          ..\n",
       "stats-assessment                           1\n",
       "mysql//functions                           1\n",
       "9_Appendix_TSAD_Lesson3                    1\n",
       "further-reading/javascript/array-splice    1\n",
       "examples/css//logincss                     1\n",
       "Name: path, Length: 467, dtype: int64"
      ]
     },
     "execution_count": 3,
     "metadata": {},
     "output_type": "execute_result"
    }
   ],
   "source": [
    "# see how many paths were accessed only once\n",
    "logs.path.value_counts()[logs.path.value_counts() < 2]"
   ]
  },
  {
   "cell_type": "code",
   "execution_count": 4,
   "id": "1702c4b7",
   "metadata": {},
   "outputs": [
    {
     "data": {
      "text/plain": [
       "1376"
      ]
     },
     "execution_count": 4,
     "metadata": {},
     "output_type": "execute_result"
    }
   ],
   "source": [
    "# view number of unique pages accessed by students after their program has ended\n",
    "logs[(logs.index > logs.end_date) & (logs.name != 'Staff') & (logs.path != '/')].path.nunique()"
   ]
  },
  {
   "cell_type": "markdown",
   "id": "3ad3384e",
   "metadata": {},
   "source": [
    "Since I'm really only interested in student access logs, I'll create a separate dataframe for just student access logs and use that for my exploration."
   ]
  },
  {
   "cell_type": "code",
   "execution_count": 5,
   "id": "df193e2d",
   "metadata": {},
   "outputs": [
    {
     "name": "stdout",
     "output_type": "stream",
     "text": [
      "<class 'pandas.core.frame.DataFrame'>\n",
      "DatetimeIndex: 763299 entries, 2018-01-26 09:55:03 to 2021-04-21 16:41:51\n",
      "Data columns (total 8 columns):\n",
      " #   Column        Non-Null Count   Dtype \n",
      "---  ------        --------------   ----- \n",
      " 0   path          763298 non-null  object\n",
      " 1   ip            763299 non-null  object\n",
      " 2   user_id       763299 non-null  int64 \n",
      " 3   name          763299 non-null  object\n",
      " 4   program_id    763299 non-null  int64 \n",
      " 5   start_date    763299 non-null  object\n",
      " 6   end_date      763299 non-null  object\n",
      " 7   program_name  763299 non-null  object\n",
      "dtypes: int64(2), object(6)\n",
      "memory usage: 52.4+ MB\n"
     ]
    }
   ],
   "source": [
    "# isolate student access logs\n",
    "student_logs = logs[logs.name != 'Staff']\n",
    "student_logs.info()"
   ]
  },
  {
   "cell_type": "code",
   "execution_count": 6,
   "id": "9d6a91aa",
   "metadata": {},
   "outputs": [
    {
     "name": "stderr",
     "output_type": "stream",
     "text": [
      "<ipython-input-6-ffe4a251a5bd>:2: SettingWithCopyWarning: \n",
      "A value is trying to be set on a copy of a slice from a DataFrame\n",
      "\n",
      "See the caveats in the documentation: https://pandas.pydata.org/pandas-docs/stable/user_guide/indexing.html#returning-a-view-versus-a-copy\n",
      "  student_logs.dropna(inplace=True)\n"
     ]
    }
   ],
   "source": [
    "# drop that one row which has a null path\n",
    "student_logs.dropna(inplace=True)"
   ]
  },
  {
   "cell_type": "code",
   "execution_count": 7,
   "id": "ab2a1f1f",
   "metadata": {},
   "outputs": [
    {
     "data": {
      "text/plain": [
       "2018-01-26 09:55:03                                         [, ]\n",
       "2018-01-26 09:56:02                                    [java-ii]\n",
       "2018-01-26 09:56:05       [java-ii, object-oriented-programming]\n",
       "2018-01-26 09:56:06        [slides, object_oriented_programming]\n",
       "2018-01-26 09:56:24                 [javascript-i, conditionals]\n",
       "                                         ...                    \n",
       "2021-04-21 16:36:09                      [jquery, personal-site]\n",
       "2021-04-21 16:36:34    [html-css, css-ii, bootstrap-grid-system]\n",
       "2021-04-21 16:37:48                                   [java-iii]\n",
       "2021-04-21 16:38:14                         [java-iii, servlets]\n",
       "2021-04-21 16:41:51             [javascript-i, bom-and-dom, dom]\n",
       "Name: path, Length: 763298, dtype: object"
      ]
     },
     "execution_count": 7,
     "metadata": {},
     "output_type": "execute_result"
    }
   ],
   "source": [
    "# split paths into lists\n",
    "student_logs.path.str.split('/')"
   ]
  },
  {
   "cell_type": "code",
   "execution_count": 8,
   "id": "aebaa345",
   "metadata": {},
   "outputs": [
    {
     "name": "stderr",
     "output_type": "stream",
     "text": [
      "<ipython-input-8-b3d42d193fae>:2: SettingWithCopyWarning: \n",
      "A value is trying to be set on a copy of a slice from a DataFrame.\n",
      "Try using .loc[row_indexer,col_indexer] = value instead\n",
      "\n",
      "See the caveats in the documentation: https://pandas.pydata.org/pandas-docs/stable/user_guide/indexing.html#returning-a-view-versus-a-copy\n",
      "  student_logs['module'] = [listy[0] for listy in student_logs.path.str.split('/')]\n"
     ]
    },
    {
     "data": {
      "text/html": [
       "<div>\n",
       "<style scoped>\n",
       "    .dataframe tbody tr th:only-of-type {\n",
       "        vertical-align: middle;\n",
       "    }\n",
       "\n",
       "    .dataframe tbody tr th {\n",
       "        vertical-align: top;\n",
       "    }\n",
       "\n",
       "    .dataframe thead th {\n",
       "        text-align: right;\n",
       "    }\n",
       "</style>\n",
       "<table border=\"1\" class=\"dataframe\">\n",
       "  <thead>\n",
       "    <tr style=\"text-align: right;\">\n",
       "      <th></th>\n",
       "      <th>path</th>\n",
       "      <th>ip</th>\n",
       "      <th>user_id</th>\n",
       "      <th>name</th>\n",
       "      <th>program_id</th>\n",
       "      <th>start_date</th>\n",
       "      <th>end_date</th>\n",
       "      <th>program_name</th>\n",
       "      <th>module</th>\n",
       "    </tr>\n",
       "  </thead>\n",
       "  <tbody>\n",
       "    <tr>\n",
       "      <th>2018-01-26 09:55:03</th>\n",
       "      <td>/</td>\n",
       "      <td>97.105.19.61</td>\n",
       "      <td>1</td>\n",
       "      <td>Hampton</td>\n",
       "      <td>1</td>\n",
       "      <td>2015-09-22</td>\n",
       "      <td>2016-02-06</td>\n",
       "      <td>WebDev-PHP</td>\n",
       "      <td></td>\n",
       "    </tr>\n",
       "    <tr>\n",
       "      <th>2018-01-26 09:56:02</th>\n",
       "      <td>java-ii</td>\n",
       "      <td>97.105.19.61</td>\n",
       "      <td>1</td>\n",
       "      <td>Hampton</td>\n",
       "      <td>1</td>\n",
       "      <td>2015-09-22</td>\n",
       "      <td>2016-02-06</td>\n",
       "      <td>WebDev-PHP</td>\n",
       "      <td>java-ii</td>\n",
       "    </tr>\n",
       "    <tr>\n",
       "      <th>2018-01-26 09:56:05</th>\n",
       "      <td>java-ii/object-oriented-programming</td>\n",
       "      <td>97.105.19.61</td>\n",
       "      <td>1</td>\n",
       "      <td>Hampton</td>\n",
       "      <td>1</td>\n",
       "      <td>2015-09-22</td>\n",
       "      <td>2016-02-06</td>\n",
       "      <td>WebDev-PHP</td>\n",
       "      <td>java-ii</td>\n",
       "    </tr>\n",
       "    <tr>\n",
       "      <th>2018-01-26 09:56:06</th>\n",
       "      <td>slides/object_oriented_programming</td>\n",
       "      <td>97.105.19.61</td>\n",
       "      <td>1</td>\n",
       "      <td>Hampton</td>\n",
       "      <td>1</td>\n",
       "      <td>2015-09-22</td>\n",
       "      <td>2016-02-06</td>\n",
       "      <td>WebDev-PHP</td>\n",
       "      <td>slides</td>\n",
       "    </tr>\n",
       "    <tr>\n",
       "      <th>2018-01-26 09:56:24</th>\n",
       "      <td>javascript-i/conditionals</td>\n",
       "      <td>97.105.19.61</td>\n",
       "      <td>2</td>\n",
       "      <td>Teddy</td>\n",
       "      <td>2</td>\n",
       "      <td>2018-01-08</td>\n",
       "      <td>2018-05-17</td>\n",
       "      <td>WebDev-Java</td>\n",
       "      <td>javascript-i</td>\n",
       "    </tr>\n",
       "    <tr>\n",
       "      <th>...</th>\n",
       "      <td>...</td>\n",
       "      <td>...</td>\n",
       "      <td>...</td>\n",
       "      <td>...</td>\n",
       "      <td>...</td>\n",
       "      <td>...</td>\n",
       "      <td>...</td>\n",
       "      <td>...</td>\n",
       "      <td>...</td>\n",
       "    </tr>\n",
       "    <tr>\n",
       "      <th>2021-04-21 16:36:09</th>\n",
       "      <td>jquery/personal-site</td>\n",
       "      <td>136.50.98.51</td>\n",
       "      <td>869</td>\n",
       "      <td>Marco</td>\n",
       "      <td>2</td>\n",
       "      <td>2021-01-25</td>\n",
       "      <td>2021-07-19</td>\n",
       "      <td>WebDev-Java</td>\n",
       "      <td>jquery</td>\n",
       "    </tr>\n",
       "    <tr>\n",
       "      <th>2021-04-21 16:36:34</th>\n",
       "      <td>html-css/css-ii/bootstrap-grid-system</td>\n",
       "      <td>104.48.214.211</td>\n",
       "      <td>948</td>\n",
       "      <td>Neptune</td>\n",
       "      <td>2</td>\n",
       "      <td>2021-03-15</td>\n",
       "      <td>2021-09-03</td>\n",
       "      <td>WebDev-Java</td>\n",
       "      <td>html-css</td>\n",
       "    </tr>\n",
       "    <tr>\n",
       "      <th>2021-04-21 16:37:48</th>\n",
       "      <td>java-iii</td>\n",
       "      <td>67.11.50.23</td>\n",
       "      <td>834</td>\n",
       "      <td>Luna</td>\n",
       "      <td>2</td>\n",
       "      <td>2020-12-07</td>\n",
       "      <td>2021-06-08</td>\n",
       "      <td>WebDev-Java</td>\n",
       "      <td>java-iii</td>\n",
       "    </tr>\n",
       "    <tr>\n",
       "      <th>2021-04-21 16:38:14</th>\n",
       "      <td>java-iii/servlets</td>\n",
       "      <td>67.11.50.23</td>\n",
       "      <td>834</td>\n",
       "      <td>Luna</td>\n",
       "      <td>2</td>\n",
       "      <td>2020-12-07</td>\n",
       "      <td>2021-06-08</td>\n",
       "      <td>WebDev-Java</td>\n",
       "      <td>java-iii</td>\n",
       "    </tr>\n",
       "    <tr>\n",
       "      <th>2021-04-21 16:41:51</th>\n",
       "      <td>javascript-i/bom-and-dom/dom</td>\n",
       "      <td>24.242.150.231</td>\n",
       "      <td>875</td>\n",
       "      <td>Marco</td>\n",
       "      <td>2</td>\n",
       "      <td>2021-01-25</td>\n",
       "      <td>2021-07-19</td>\n",
       "      <td>WebDev-Java</td>\n",
       "      <td>javascript-i</td>\n",
       "    </tr>\n",
       "  </tbody>\n",
       "</table>\n",
       "<p>763298 rows × 9 columns</p>\n",
       "</div>"
      ],
      "text/plain": [
       "                                                      path              ip  \\\n",
       "2018-01-26 09:55:03                                      /    97.105.19.61   \n",
       "2018-01-26 09:56:02                                java-ii    97.105.19.61   \n",
       "2018-01-26 09:56:05    java-ii/object-oriented-programming    97.105.19.61   \n",
       "2018-01-26 09:56:06     slides/object_oriented_programming    97.105.19.61   \n",
       "2018-01-26 09:56:24              javascript-i/conditionals    97.105.19.61   \n",
       "...                                                    ...             ...   \n",
       "2021-04-21 16:36:09                   jquery/personal-site    136.50.98.51   \n",
       "2021-04-21 16:36:34  html-css/css-ii/bootstrap-grid-system  104.48.214.211   \n",
       "2021-04-21 16:37:48                               java-iii     67.11.50.23   \n",
       "2021-04-21 16:38:14                      java-iii/servlets     67.11.50.23   \n",
       "2021-04-21 16:41:51           javascript-i/bom-and-dom/dom  24.242.150.231   \n",
       "\n",
       "                     user_id     name  program_id  start_date    end_date  \\\n",
       "2018-01-26 09:55:03        1  Hampton           1  2015-09-22  2016-02-06   \n",
       "2018-01-26 09:56:02        1  Hampton           1  2015-09-22  2016-02-06   \n",
       "2018-01-26 09:56:05        1  Hampton           1  2015-09-22  2016-02-06   \n",
       "2018-01-26 09:56:06        1  Hampton           1  2015-09-22  2016-02-06   \n",
       "2018-01-26 09:56:24        2    Teddy           2  2018-01-08  2018-05-17   \n",
       "...                      ...      ...         ...         ...         ...   \n",
       "2021-04-21 16:36:09      869    Marco           2  2021-01-25  2021-07-19   \n",
       "2021-04-21 16:36:34      948  Neptune           2  2021-03-15  2021-09-03   \n",
       "2021-04-21 16:37:48      834     Luna           2  2020-12-07  2021-06-08   \n",
       "2021-04-21 16:38:14      834     Luna           2  2020-12-07  2021-06-08   \n",
       "2021-04-21 16:41:51      875    Marco           2  2021-01-25  2021-07-19   \n",
       "\n",
       "                    program_name        module  \n",
       "2018-01-26 09:55:03   WebDev-PHP                \n",
       "2018-01-26 09:56:02   WebDev-PHP       java-ii  \n",
       "2018-01-26 09:56:05   WebDev-PHP       java-ii  \n",
       "2018-01-26 09:56:06   WebDev-PHP        slides  \n",
       "2018-01-26 09:56:24  WebDev-Java  javascript-i  \n",
       "...                          ...           ...  \n",
       "2021-04-21 16:36:09  WebDev-Java        jquery  \n",
       "2021-04-21 16:36:34  WebDev-Java      html-css  \n",
       "2021-04-21 16:37:48  WebDev-Java      java-iii  \n",
       "2021-04-21 16:38:14  WebDev-Java      java-iii  \n",
       "2021-04-21 16:41:51  WebDev-Java  javascript-i  \n",
       "\n",
       "[763298 rows x 9 columns]"
      ]
     },
     "execution_count": 8,
     "metadata": {},
     "output_type": "execute_result"
    }
   ],
   "source": [
    "# label access logs by module\n",
    "student_logs['module'] = [listy[0] for listy in student_logs.path.str.split('/')]\n",
    "student_logs"
   ]
  },
  {
   "cell_type": "code",
   "execution_count": 9,
   "id": "14ff6b75",
   "metadata": {
    "scrolled": true
   },
   "outputs": [
    {
     "data": {
      "text/plain": [
       "191"
      ]
     },
     "execution_count": 9,
     "metadata": {},
     "output_type": "execute_result"
    }
   ],
   "source": [
    "# number of unique paths containing 'java'\n",
    "student_logs[student_logs.path.str.contains('java')].path.nunique()"
   ]
  },
  {
   "cell_type": "code",
   "execution_count": 10,
   "id": "714d5fce",
   "metadata": {},
   "outputs": [
    {
     "data": {
      "text/plain": [
       "119"
      ]
     },
     "execution_count": 10,
     "metadata": {},
     "output_type": "execute_result"
    }
   ],
   "source": [
    "# number of unique paths containing 'php'\n",
    "student_logs[student_logs.path.str.contains('php')].path.nunique()"
   ]
  },
  {
   "cell_type": "code",
   "execution_count": 11,
   "id": "980c1481",
   "metadata": {},
   "outputs": [
    {
     "data": {
      "text/plain": [
       "16"
      ]
     },
     "execution_count": 11,
     "metadata": {},
     "output_type": "execute_result"
    }
   ],
   "source": [
    "# number of unique paths containing 'data-sci'\n",
    "student_logs[student_logs.path.str.contains('data-sci')].path.nunique()"
   ]
  },
  {
   "cell_type": "code",
   "execution_count": 12,
   "id": "90be2a1b",
   "metadata": {},
   "outputs": [
    {
     "data": {
      "text/plain": [
       "1844"
      ]
     },
     "execution_count": 12,
     "metadata": {},
     "output_type": "execute_result"
    }
   ],
   "source": [
    "# view number of unique paths\n",
    "student_logs.path.nunique()"
   ]
  },
  {
   "cell_type": "markdown",
   "id": "a2815e7d",
   "metadata": {},
   "source": [
    "There are 1,844 unique pages that were visited by Codeup students (in this dataset).\n",
    "\n",
    "I want to create separate dataframes for each program to try and figure out which pages go with each program."
   ]
  },
  {
   "cell_type": "code",
   "execution_count": 13,
   "id": "562073e0",
   "metadata": {},
   "outputs": [
    {
     "name": "stdout",
     "output_type": "stream",
     "text": [
      "98\n"
     ]
    },
    {
     "data": {
      "text/html": [
       "<div>\n",
       "<style scoped>\n",
       "    .dataframe tbody tr th:only-of-type {\n",
       "        vertical-align: middle;\n",
       "    }\n",
       "\n",
       "    .dataframe tbody tr th {\n",
       "        vertical-align: top;\n",
       "    }\n",
       "\n",
       "    .dataframe thead th {\n",
       "        text-align: right;\n",
       "    }\n",
       "</style>\n",
       "<table border=\"1\" class=\"dataframe\">\n",
       "  <thead>\n",
       "    <tr style=\"text-align: right;\">\n",
       "      <th></th>\n",
       "      <th>path</th>\n",
       "      <th>ip</th>\n",
       "      <th>user_id</th>\n",
       "      <th>name</th>\n",
       "      <th>program_id</th>\n",
       "      <th>start_date</th>\n",
       "      <th>end_date</th>\n",
       "      <th>program_name</th>\n",
       "      <th>module</th>\n",
       "    </tr>\n",
       "  </thead>\n",
       "  <tbody>\n",
       "    <tr>\n",
       "      <th>2018-01-26 09:55:03</th>\n",
       "      <td>/</td>\n",
       "      <td>97.105.19.61</td>\n",
       "      <td>1</td>\n",
       "      <td>Hampton</td>\n",
       "      <td>1</td>\n",
       "      <td>2015-09-22</td>\n",
       "      <td>2016-02-06</td>\n",
       "      <td>WebDev-PHP</td>\n",
       "      <td></td>\n",
       "    </tr>\n",
       "    <tr>\n",
       "      <th>2018-01-26 09:56:02</th>\n",
       "      <td>java-ii</td>\n",
       "      <td>97.105.19.61</td>\n",
       "      <td>1</td>\n",
       "      <td>Hampton</td>\n",
       "      <td>1</td>\n",
       "      <td>2015-09-22</td>\n",
       "      <td>2016-02-06</td>\n",
       "      <td>WebDev-PHP</td>\n",
       "      <td>java-ii</td>\n",
       "    </tr>\n",
       "  </tbody>\n",
       "</table>\n",
       "</div>"
      ],
      "text/plain": [
       "                        path            ip  user_id     name  program_id  \\\n",
       "2018-01-26 09:55:03        /  97.105.19.61        1  Hampton           1   \n",
       "2018-01-26 09:56:02  java-ii  97.105.19.61        1  Hampton           1   \n",
       "\n",
       "                     start_date    end_date program_name   module  \n",
       "2018-01-26 09:55:03  2015-09-22  2016-02-06   WebDev-PHP           \n",
       "2018-01-26 09:56:02  2015-09-22  2016-02-06   WebDev-PHP  java-ii  "
      ]
     },
     "execution_count": 13,
     "metadata": {},
     "output_type": "execute_result"
    }
   ],
   "source": [
    "# create php dataframe\n",
    "php = student_logs[student_logs.program_id == 1]\n",
    "print(php.user_id.nunique())\n",
    "php.head(2)"
   ]
  },
  {
   "cell_type": "code",
   "execution_count": 14,
   "id": "9e169665",
   "metadata": {},
   "outputs": [
    {
     "name": "stdout",
     "output_type": "stream",
     "text": [
      "682\n"
     ]
    },
    {
     "data": {
      "text/html": [
       "<div>\n",
       "<style scoped>\n",
       "    .dataframe tbody tr th:only-of-type {\n",
       "        vertical-align: middle;\n",
       "    }\n",
       "\n",
       "    .dataframe tbody tr th {\n",
       "        vertical-align: top;\n",
       "    }\n",
       "\n",
       "    .dataframe thead th {\n",
       "        text-align: right;\n",
       "    }\n",
       "</style>\n",
       "<table border=\"1\" class=\"dataframe\">\n",
       "  <thead>\n",
       "    <tr style=\"text-align: right;\">\n",
       "      <th></th>\n",
       "      <th>path</th>\n",
       "      <th>ip</th>\n",
       "      <th>user_id</th>\n",
       "      <th>name</th>\n",
       "      <th>program_id</th>\n",
       "      <th>start_date</th>\n",
       "      <th>end_date</th>\n",
       "      <th>program_name</th>\n",
       "      <th>module</th>\n",
       "    </tr>\n",
       "  </thead>\n",
       "  <tbody>\n",
       "    <tr>\n",
       "      <th>2018-01-26 09:56:24</th>\n",
       "      <td>javascript-i/conditionals</td>\n",
       "      <td>97.105.19.61</td>\n",
       "      <td>2</td>\n",
       "      <td>Teddy</td>\n",
       "      <td>2</td>\n",
       "      <td>2018-01-08</td>\n",
       "      <td>2018-05-17</td>\n",
       "      <td>WebDev-Java</td>\n",
       "      <td>javascript-i</td>\n",
       "    </tr>\n",
       "    <tr>\n",
       "      <th>2018-01-26 09:56:41</th>\n",
       "      <td>javascript-i/loops</td>\n",
       "      <td>97.105.19.61</td>\n",
       "      <td>2</td>\n",
       "      <td>Teddy</td>\n",
       "      <td>2</td>\n",
       "      <td>2018-01-08</td>\n",
       "      <td>2018-05-17</td>\n",
       "      <td>WebDev-Java</td>\n",
       "      <td>javascript-i</td>\n",
       "    </tr>\n",
       "  </tbody>\n",
       "</table>\n",
       "</div>"
      ],
      "text/plain": [
       "                                          path            ip  user_id   name  \\\n",
       "2018-01-26 09:56:24  javascript-i/conditionals  97.105.19.61        2  Teddy   \n",
       "2018-01-26 09:56:41         javascript-i/loops  97.105.19.61        2  Teddy   \n",
       "\n",
       "                     program_id  start_date    end_date program_name  \\\n",
       "2018-01-26 09:56:24           2  2018-01-08  2018-05-17  WebDev-Java   \n",
       "2018-01-26 09:56:41           2  2018-01-08  2018-05-17  WebDev-Java   \n",
       "\n",
       "                           module  \n",
       "2018-01-26 09:56:24  javascript-i  \n",
       "2018-01-26 09:56:41  javascript-i  "
      ]
     },
     "execution_count": 14,
     "metadata": {},
     "output_type": "execute_result"
    }
   ],
   "source": [
    "# create java dataframe\n",
    "java = student_logs[student_logs.program_id == 2]\n",
    "print(java.user_id.nunique())\n",
    "java.head(2)"
   ]
  },
  {
   "cell_type": "code",
   "execution_count": 15,
   "id": "6fc56f48",
   "metadata": {},
   "outputs": [
    {
     "name": "stdout",
     "output_type": "stream",
     "text": [
      "111\n"
     ]
    },
    {
     "data": {
      "text/html": [
       "<div>\n",
       "<style scoped>\n",
       "    .dataframe tbody tr th:only-of-type {\n",
       "        vertical-align: middle;\n",
       "    }\n",
       "\n",
       "    .dataframe tbody tr th {\n",
       "        vertical-align: top;\n",
       "    }\n",
       "\n",
       "    .dataframe thead th {\n",
       "        text-align: right;\n",
       "    }\n",
       "</style>\n",
       "<table border=\"1\" class=\"dataframe\">\n",
       "  <thead>\n",
       "    <tr style=\"text-align: right;\">\n",
       "      <th></th>\n",
       "      <th>path</th>\n",
       "      <th>ip</th>\n",
       "      <th>user_id</th>\n",
       "      <th>name</th>\n",
       "      <th>program_id</th>\n",
       "      <th>start_date</th>\n",
       "      <th>end_date</th>\n",
       "      <th>program_name</th>\n",
       "      <th>module</th>\n",
       "    </tr>\n",
       "  </thead>\n",
       "  <tbody>\n",
       "    <tr>\n",
       "      <th>2019-08-20 09:39:58</th>\n",
       "      <td>/</td>\n",
       "      <td>97.105.19.58</td>\n",
       "      <td>466</td>\n",
       "      <td>Bayes</td>\n",
       "      <td>3</td>\n",
       "      <td>2019-08-19</td>\n",
       "      <td>2020-01-30</td>\n",
       "      <td>DataSci</td>\n",
       "      <td></td>\n",
       "    </tr>\n",
       "    <tr>\n",
       "      <th>2019-08-20 09:39:59</th>\n",
       "      <td>/</td>\n",
       "      <td>97.105.19.58</td>\n",
       "      <td>467</td>\n",
       "      <td>Bayes</td>\n",
       "      <td>3</td>\n",
       "      <td>2019-08-19</td>\n",
       "      <td>2020-01-30</td>\n",
       "      <td>DataSci</td>\n",
       "      <td></td>\n",
       "    </tr>\n",
       "  </tbody>\n",
       "</table>\n",
       "</div>"
      ],
      "text/plain": [
       "                    path            ip  user_id   name  program_id  \\\n",
       "2019-08-20 09:39:58    /  97.105.19.58      466  Bayes           3   \n",
       "2019-08-20 09:39:59    /  97.105.19.58      467  Bayes           3   \n",
       "\n",
       "                     start_date    end_date program_name module  \n",
       "2019-08-20 09:39:58  2019-08-19  2020-01-30      DataSci         \n",
       "2019-08-20 09:39:59  2019-08-19  2020-01-30      DataSci         "
      ]
     },
     "execution_count": 15,
     "metadata": {},
     "output_type": "execute_result"
    }
   ],
   "source": [
    "# create data science dataframe\n",
    "ds = student_logs[student_logs.program_id == 3]\n",
    "print(ds.user_id.nunique())\n",
    "ds.head(2)"
   ]
  },
  {
   "cell_type": "code",
   "execution_count": 16,
   "id": "1f92cb8c",
   "metadata": {},
   "outputs": [
    {
     "name": "stdout",
     "output_type": "stream",
     "text": [
      "1\n"
     ]
    },
    {
     "data": {
      "text/html": [
       "<div>\n",
       "<style scoped>\n",
       "    .dataframe tbody tr th:only-of-type {\n",
       "        vertical-align: middle;\n",
       "    }\n",
       "\n",
       "    .dataframe tbody tr th {\n",
       "        vertical-align: top;\n",
       "    }\n",
       "\n",
       "    .dataframe thead th {\n",
       "        text-align: right;\n",
       "    }\n",
       "</style>\n",
       "<table border=\"1\" class=\"dataframe\">\n",
       "  <thead>\n",
       "    <tr style=\"text-align: right;\">\n",
       "      <th></th>\n",
       "      <th>path</th>\n",
       "      <th>ip</th>\n",
       "      <th>user_id</th>\n",
       "      <th>name</th>\n",
       "      <th>program_id</th>\n",
       "      <th>start_date</th>\n",
       "      <th>end_date</th>\n",
       "      <th>program_name</th>\n",
       "      <th>module</th>\n",
       "    </tr>\n",
       "  </thead>\n",
       "  <tbody>\n",
       "    <tr>\n",
       "      <th>2018-03-22 19:01:49</th>\n",
       "      <td>/</td>\n",
       "      <td>207.68.209.17</td>\n",
       "      <td>152</td>\n",
       "      <td>Apollo</td>\n",
       "      <td>4</td>\n",
       "      <td>2015-03-30</td>\n",
       "      <td>2015-07-29</td>\n",
       "      <td>FrontEnd</td>\n",
       "      <td></td>\n",
       "    </tr>\n",
       "    <tr>\n",
       "      <th>2018-03-22 19:01:54</th>\n",
       "      <td>content/html-css</td>\n",
       "      <td>207.68.209.17</td>\n",
       "      <td>152</td>\n",
       "      <td>Apollo</td>\n",
       "      <td>4</td>\n",
       "      <td>2015-03-30</td>\n",
       "      <td>2015-07-29</td>\n",
       "      <td>FrontEnd</td>\n",
       "      <td>content</td>\n",
       "    </tr>\n",
       "  </tbody>\n",
       "</table>\n",
       "</div>"
      ],
      "text/plain": [
       "                                 path             ip  user_id    name  \\\n",
       "2018-03-22 19:01:49                 /  207.68.209.17      152  Apollo   \n",
       "2018-03-22 19:01:54  content/html-css  207.68.209.17      152  Apollo   \n",
       "\n",
       "                     program_id  start_date    end_date program_name   module  \n",
       "2018-03-22 19:01:49           4  2015-03-30  2015-07-29     FrontEnd           \n",
       "2018-03-22 19:01:54           4  2015-03-30  2015-07-29     FrontEnd  content  "
      ]
     },
     "execution_count": 16,
     "metadata": {},
     "output_type": "execute_result"
    }
   ],
   "source": [
    "# create front end dataframe\n",
    "frontend = student_logs[student_logs.program_id == 4]\n",
    "print(frontend.user_id.nunique())\n",
    "frontend.head(2)"
   ]
  },
  {
   "cell_type": "code",
   "execution_count": 17,
   "id": "a4d3983f",
   "metadata": {},
   "outputs": [
    {
     "data": {
      "text/plain": [
       "/                                      1681\n",
       "index.html                             1011\n",
       "javascript-i                            736\n",
       "html-css                                542\n",
       "spring                                  501\n",
       "                                       ... \n",
       "content/loops.html                        1\n",
       "appendix/extra-challenges/locations       1\n",
       "content/examples/php/while.html           1\n",
       "content/javascript/arrays/arrays          1\n",
       "2-storytelling/2.1-understand             1\n",
       "Name: path, Length: 710, dtype: int64"
      ]
     },
     "execution_count": 17,
     "metadata": {},
     "output_type": "execute_result"
    }
   ],
   "source": [
    "# view unique paths for php program\n",
    "php.path.value_counts()"
   ]
  },
  {
   "cell_type": "code",
   "execution_count": 18,
   "id": "75cedc15",
   "metadata": {},
   "outputs": [
    {
     "data": {
      "text/plain": [
       "/                                                            29474\n",
       "toc                                                          16517\n",
       "javascript-i                                                 15640\n",
       "search/search_index.json                                     13863\n",
       "java-iii                                                     11290\n",
       "                                                             ...  \n",
       "sgithubtudents/1215                                              1\n",
       "content/examples/examples/html/gitbook/images/favicon.ico        1\n",
       "appendix/spring/authorization                                    1\n",
       "coding-challenges                                                1\n",
       "quic/115                                                         1\n",
       "Name: path, Length: 1113, dtype: int64"
      ]
     },
     "execution_count": 18,
     "metadata": {},
     "output_type": "execute_result"
    }
   ],
   "source": [
    "# view unique paths for java program\n",
    "java.path.value_counts()"
   ]
  },
  {
   "cell_type": "code",
   "execution_count": 19,
   "id": "af08ea96",
   "metadata": {},
   "outputs": [
    {
     "data": {
      "text/plain": [
       "/                                           8358\n",
       "search/search_index.json                    2203\n",
       "classification/overview                     1785\n",
       "1-fundamentals/modern-data-scientist.jpg    1655\n",
       "1-fundamentals/AI-ML-DL-timeline.jpg        1651\n",
       "                                            ... \n",
       "12-distributed-ml/6.3-prepare-part-3           1\n",
       "bad-charts                                     1\n",
       "itc-ml                                         1\n",
       "itc%20-%20ml                                   1\n",
       "sql/database                                   1\n",
       "Name: path, Length: 682, dtype: int64"
      ]
     },
     "execution_count": 19,
     "metadata": {},
     "output_type": "execute_result"
    }
   ],
   "source": [
    "# view unique paths for data science program\n",
    "ds.path.value_counts()"
   ]
  },
  {
   "cell_type": "code",
   "execution_count": 20,
   "id": "d5cfb01c",
   "metadata": {},
   "outputs": [
    {
     "data": {
      "text/plain": [
       "content/html-css                               2\n",
       "content/html-css/introduction.html             1\n",
       "/                                              1\n",
       "content/html-css/gitbook/images/favicon.ico    1\n",
       "Name: path, dtype: int64"
      ]
     },
     "execution_count": 20,
     "metadata": {},
     "output_type": "execute_result"
    }
   ],
   "source": [
    "# view unique paths for front end program\n",
    "frontend.path.value_counts()"
   ]
  },
  {
   "cell_type": "code",
   "execution_count": 21,
   "id": "5742504f",
   "metadata": {},
   "outputs": [
    {
     "data": {
      "text/plain": [
       "Apollo    5\n",
       "Name: name, dtype: int64"
      ]
     },
     "execution_count": 21,
     "metadata": {},
     "output_type": "execute_result"
    }
   ],
   "source": [
    "# see how may cohorts were in front end program\n",
    "frontend.name.value_counts()"
   ]
  },
  {
   "cell_type": "code",
   "execution_count": 22,
   "id": "72eb0441",
   "metadata": {},
   "outputs": [
    {
     "data": {
      "text/plain": [
       "152    5\n",
       "Name: user_id, dtype: int64"
      ]
     },
     "execution_count": 22,
     "metadata": {},
     "output_type": "execute_result"
    }
   ],
   "source": [
    "# view users in front end program\n",
    "frontend.user_id.value_counts()"
   ]
  },
  {
   "cell_type": "markdown",
   "id": "86501796",
   "metadata": {},
   "source": [
    "Only one user ever accessed the Front End curriculum. I want to see if there is anyone else in the Apollo cohort and if not I won't worry about exploring this program at all since it would practically be nonexistent in comparison to the others. Also, this program does not appear to have continued past Apollo so it's unlikely our stakeholder would be interested in this at all."
   ]
  },
  {
   "cell_type": "code",
   "execution_count": 23,
   "id": "c2f3b603",
   "metadata": {},
   "outputs": [
    {
     "data": {
      "text/html": [
       "<div>\n",
       "<style scoped>\n",
       "    .dataframe tbody tr th:only-of-type {\n",
       "        vertical-align: middle;\n",
       "    }\n",
       "\n",
       "    .dataframe tbody tr th {\n",
       "        vertical-align: top;\n",
       "    }\n",
       "\n",
       "    .dataframe thead th {\n",
       "        text-align: right;\n",
       "    }\n",
       "</style>\n",
       "<table border=\"1\" class=\"dataframe\">\n",
       "  <thead>\n",
       "    <tr style=\"text-align: right;\">\n",
       "      <th></th>\n",
       "      <th>path</th>\n",
       "      <th>ip</th>\n",
       "      <th>user_id</th>\n",
       "      <th>name</th>\n",
       "      <th>program_id</th>\n",
       "      <th>start_date</th>\n",
       "      <th>end_date</th>\n",
       "      <th>program_name</th>\n",
       "      <th>module</th>\n",
       "    </tr>\n",
       "  </thead>\n",
       "  <tbody>\n",
       "    <tr>\n",
       "      <th>2018-03-22 19:01:49</th>\n",
       "      <td>/</td>\n",
       "      <td>207.68.209.17</td>\n",
       "      <td>152</td>\n",
       "      <td>Apollo</td>\n",
       "      <td>4</td>\n",
       "      <td>2015-03-30</td>\n",
       "      <td>2015-07-29</td>\n",
       "      <td>FrontEnd</td>\n",
       "      <td></td>\n",
       "    </tr>\n",
       "    <tr>\n",
       "      <th>2018-03-22 19:01:54</th>\n",
       "      <td>content/html-css</td>\n",
       "      <td>207.68.209.17</td>\n",
       "      <td>152</td>\n",
       "      <td>Apollo</td>\n",
       "      <td>4</td>\n",
       "      <td>2015-03-30</td>\n",
       "      <td>2015-07-29</td>\n",
       "      <td>FrontEnd</td>\n",
       "      <td>content</td>\n",
       "    </tr>\n",
       "    <tr>\n",
       "      <th>2018-03-22 19:01:54</th>\n",
       "      <td>content/html-css/gitbook/images/favicon.ico</td>\n",
       "      <td>207.68.209.17</td>\n",
       "      <td>152</td>\n",
       "      <td>Apollo</td>\n",
       "      <td>4</td>\n",
       "      <td>2015-03-30</td>\n",
       "      <td>2015-07-29</td>\n",
       "      <td>FrontEnd</td>\n",
       "      <td>content</td>\n",
       "    </tr>\n",
       "    <tr>\n",
       "      <th>2018-03-22 19:02:47</th>\n",
       "      <td>content/html-css</td>\n",
       "      <td>207.68.209.17</td>\n",
       "      <td>152</td>\n",
       "      <td>Apollo</td>\n",
       "      <td>4</td>\n",
       "      <td>2015-03-30</td>\n",
       "      <td>2015-07-29</td>\n",
       "      <td>FrontEnd</td>\n",
       "      <td>content</td>\n",
       "    </tr>\n",
       "    <tr>\n",
       "      <th>2018-03-22 19:02:52</th>\n",
       "      <td>content/html-css/introduction.html</td>\n",
       "      <td>207.68.209.17</td>\n",
       "      <td>152</td>\n",
       "      <td>Apollo</td>\n",
       "      <td>4</td>\n",
       "      <td>2015-03-30</td>\n",
       "      <td>2015-07-29</td>\n",
       "      <td>FrontEnd</td>\n",
       "      <td>content</td>\n",
       "    </tr>\n",
       "  </tbody>\n",
       "</table>\n",
       "</div>"
      ],
      "text/plain": [
       "                                                            path  \\\n",
       "2018-03-22 19:01:49                                            /   \n",
       "2018-03-22 19:01:54                             content/html-css   \n",
       "2018-03-22 19:01:54  content/html-css/gitbook/images/favicon.ico   \n",
       "2018-03-22 19:02:47                             content/html-css   \n",
       "2018-03-22 19:02:52           content/html-css/introduction.html   \n",
       "\n",
       "                                ip  user_id    name  program_id  start_date  \\\n",
       "2018-03-22 19:01:49  207.68.209.17      152  Apollo           4  2015-03-30   \n",
       "2018-03-22 19:01:54  207.68.209.17      152  Apollo           4  2015-03-30   \n",
       "2018-03-22 19:01:54  207.68.209.17      152  Apollo           4  2015-03-30   \n",
       "2018-03-22 19:02:47  207.68.209.17      152  Apollo           4  2015-03-30   \n",
       "2018-03-22 19:02:52  207.68.209.17      152  Apollo           4  2015-03-30   \n",
       "\n",
       "                       end_date program_name   module  \n",
       "2018-03-22 19:01:49  2015-07-29     FrontEnd           \n",
       "2018-03-22 19:01:54  2015-07-29     FrontEnd  content  \n",
       "2018-03-22 19:01:54  2015-07-29     FrontEnd  content  \n",
       "2018-03-22 19:02:47  2015-07-29     FrontEnd  content  \n",
       "2018-03-22 19:02:52  2015-07-29     FrontEnd  content  "
      ]
     },
     "execution_count": 23,
     "metadata": {},
     "output_type": "execute_result"
    }
   ],
   "source": [
    "# view curriculum access logs for Apollo cohort\n",
    "student_logs[student_logs.name == 'Apollo']"
   ]
  },
  {
   "cell_type": "code",
   "execution_count": 24,
   "id": "e6ea2187",
   "metadata": {},
   "outputs": [
    {
     "data": {
      "text/plain": [
       "77810"
      ]
     },
     "execution_count": 24,
     "metadata": {},
     "output_type": "execute_result"
    }
   ],
   "source": [
    "# see if there are other html-css pages in curriculum\n",
    "student_logs.path.str.contains('html-css').sum()"
   ]
  },
  {
   "cell_type": "code",
   "execution_count": 25,
   "id": "b0ed68e5",
   "metadata": {},
   "outputs": [
    {
     "data": {
      "text/plain": [
       "'2017-09-22'"
      ]
     },
     "execution_count": 25,
     "metadata": {},
     "output_type": "execute_result"
    }
   ],
   "source": [
    "# see when php program ended\n",
    "php.end_date.max()"
   ]
  },
  {
   "cell_type": "code",
   "execution_count": 26,
   "id": "79f0a84f",
   "metadata": {},
   "outputs": [
    {
     "data": {
      "text/plain": [
       "'2016-09-26'"
      ]
     },
     "execution_count": 26,
     "metadata": {},
     "output_type": "execute_result"
    }
   ],
   "source": [
    "# see when java program started\n",
    "java.start_date.min()"
   ]
  },
  {
   "cell_type": "code",
   "execution_count": 27,
   "id": "093cc02b",
   "metadata": {},
   "outputs": [
    {
     "data": {
      "text/plain": [
       "'2021-10-01'"
      ]
     },
     "execution_count": 27,
     "metadata": {},
     "output_type": "execute_result"
    }
   ],
   "source": [
    "# see last record of java program\n",
    "java.end_date.max()"
   ]
  },
  {
   "cell_type": "code",
   "execution_count": 28,
   "id": "257c80c9",
   "metadata": {},
   "outputs": [
    {
     "data": {
      "text/plain": [
       "('2019-08-19', '2021-09-03')"
      ]
     },
     "execution_count": 28,
     "metadata": {},
     "output_type": "execute_result"
    }
   ],
   "source": [
    "# see first and last records of data science program\n",
    "ds.start_date.min(), ds.end_date.max()"
   ]
  },
  {
   "cell_type": "markdown",
   "id": "477aa79c",
   "metadata": {},
   "source": [
    "So it looks like the only programs that are still being taught are the WebDev-Java and Data Science programs."
   ]
  },
  {
   "cell_type": "code",
   "execution_count": 29,
   "id": "f736d9ec",
   "metadata": {
    "scrolled": false
   },
   "outputs": [
    {
     "data": {
      "text/plain": [
       "/                                                                            1681\n",
       "index.html                                                                   1011\n",
       "javascript-i                                                                  736\n",
       "html-css                                                                      542\n",
       "spring                                                                        501\n",
       "java-iii                                                                      479\n",
       "java-ii                                                                       454\n",
       "java-i                                                                        444\n",
       "javascript-ii                                                                 429\n",
       "appendix                                                                      409\n",
       "jquery                                                                        344\n",
       "mysql                                                                         284\n",
       "content/html-css                                                              262\n",
       "javascript-i/introduction/working-with-data-types-operators-and-variables     232\n",
       "java-iii/servlets                                                             227\n",
       "javascript-i/javascript-with-html                                             225\n",
       "spring/fundamentals/views                                                     225\n",
       "java-iii/jsp-and-jstl                                                         224\n",
       "javascript-i/functions                                                        220\n",
       "spring/fundamentals/repositories                                              217\n",
       "Name: path, dtype: int64"
      ]
     },
     "execution_count": 29,
     "metadata": {},
     "output_type": "execute_result"
    }
   ],
   "source": [
    "# see top 20 pages accessed by php\n",
    "php.path.value_counts().head(20)"
   ]
  },
  {
   "cell_type": "code",
   "execution_count": 30,
   "id": "40516a00",
   "metadata": {},
   "outputs": [
    {
     "data": {
      "text/plain": [
       "/                                                                            29474\n",
       "toc                                                                          16517\n",
       "javascript-i                                                                 15640\n",
       "search/search_index.json                                                     13863\n",
       "java-iii                                                                     11290\n",
       "html-css                                                                     11285\n",
       "java-ii                                                                      10459\n",
       "spring                                                                        9973\n",
       "jquery                                                                        9776\n",
       "mysql                                                                         9423\n",
       "java-i                                                                        9161\n",
       "javascript-ii                                                                 8868\n",
       "javascript-i/introduction/working-with-data-types-operators-and-variables     6809\n",
       "javascript-i/functions                                                        6579\n",
       "mysql/tables                                                                  6569\n",
       "javascript-i/javascript-with-html                                             6514\n",
       "appendix                                                                      6360\n",
       "mysql/databases                                                               6204\n",
       "html-css/elements                                                             6203\n",
       "html-css/css-ii/bootstrap-grid-system                                         5996\n",
       "Name: path, dtype: int64"
      ]
     },
     "execution_count": 30,
     "metadata": {},
     "output_type": "execute_result"
    }
   ],
   "source": [
    "# see top 20 pages accessed by java\n",
    "java.path.value_counts().head(20)"
   ]
  },
  {
   "cell_type": "code",
   "execution_count": 31,
   "id": "4945fd49",
   "metadata": {},
   "outputs": [
    {
     "data": {
      "text/plain": [
       "/                                                    8358\n",
       "search/search_index.json                             2203\n",
       "classification/overview                              1785\n",
       "1-fundamentals/modern-data-scientist.jpg             1655\n",
       "1-fundamentals/AI-ML-DL-timeline.jpg                 1651\n",
       "1-fundamentals/1.1-intro-to-data-science             1633\n",
       "classification/scale_features_or_not.svg             1590\n",
       "fundamentals/AI-ML-DL-timeline.jpg                   1443\n",
       "fundamentals/modern-data-scientist.jpg               1438\n",
       "sql/mysql-overview                                   1424\n",
       "fundamentals/intro-to-data-science                   1413\n",
       "6-regression/1-overview                              1124\n",
       "anomaly-detection/AnomalyDetectionCartoon.jpeg        829\n",
       "anomaly-detection/overview                            804\n",
       "10-anomaly-detection/AnomalyDetectionCartoon.jpeg     754\n",
       "10-anomaly-detection/1-overview                       751\n",
       "3-sql/1-mysql-overview                                707\n",
       "1-fundamentals/DataToAction_v2.jpg                    675\n",
       "stats/compare-means                                   668\n",
       "python/data-types-and-variables                       667\n",
       "Name: path, dtype: int64"
      ]
     },
     "execution_count": 31,
     "metadata": {},
     "output_type": "execute_result"
    }
   ],
   "source": [
    "# see top 20 pages accessed by ds\n",
    "ds.path.value_counts().head(20)"
   ]
  },
  {
   "cell_type": "code",
   "execution_count": 32,
   "id": "1db802a6",
   "metadata": {},
   "outputs": [
    {
     "data": {
      "text/plain": [
       "fundamentals      8746\n",
       "classification    8620\n",
       "                  8358\n",
       "1-fundamentals    7945\n",
       "sql               7505\n",
       "3-sql             6165\n",
       "python            5599\n",
       "4-python          4856\n",
       "6-regression      4562\n",
       "appendix          3944\n",
       "Name: module, dtype: int64"
      ]
     },
     "execution_count": 32,
     "metadata": {},
     "output_type": "execute_result"
    }
   ],
   "source": [
    "# view top 10 most accessed modules for data science\n",
    "ds.module.value_counts().head(10)"
   ]
  },
  {
   "cell_type": "markdown",
   "id": "7b99ebdc",
   "metadata": {},
   "source": [
    "The blank module is just the main curriculum page so I don't need to look into that any further. I am curious about what is being looked at in the appendix so I'll investigate that a little more."
   ]
  },
  {
   "cell_type": "code",
   "execution_count": 45,
   "id": "df24e8fe",
   "metadata": {},
   "outputs": [
    {
     "data": {
      "text/html": [
       "<div>\n",
       "<style scoped>\n",
       "    .dataframe tbody tr th:only-of-type {\n",
       "        vertical-align: middle;\n",
       "    }\n",
       "\n",
       "    .dataframe tbody tr th {\n",
       "        vertical-align: top;\n",
       "    }\n",
       "\n",
       "    .dataframe thead th {\n",
       "        text-align: right;\n",
       "    }\n",
       "</style>\n",
       "<table border=\"1\" class=\"dataframe\">\n",
       "  <thead>\n",
       "    <tr style=\"text-align: right;\">\n",
       "      <th></th>\n",
       "      <th>path</th>\n",
       "      <th>ip</th>\n",
       "      <th>user_id</th>\n",
       "      <th>name</th>\n",
       "      <th>program_id</th>\n",
       "      <th>start_date</th>\n",
       "      <th>end_date</th>\n",
       "      <th>program_name</th>\n",
       "      <th>module</th>\n",
       "    </tr>\n",
       "  </thead>\n",
       "  <tbody>\n",
       "    <tr>\n",
       "      <th>2019-08-20 09:40:50</th>\n",
       "      <td>appendix/cli-git-overview</td>\n",
       "      <td>97.105.19.58</td>\n",
       "      <td>479</td>\n",
       "      <td>Bayes</td>\n",
       "      <td>3</td>\n",
       "      <td>2019-08-19</td>\n",
       "      <td>2020-01-30</td>\n",
       "      <td>DataSci</td>\n",
       "      <td>appendix</td>\n",
       "    </tr>\n",
       "    <tr>\n",
       "      <th>2019-08-21 13:55:51</th>\n",
       "      <td>appendix/cli-git-overview</td>\n",
       "      <td>97.105.19.58</td>\n",
       "      <td>467</td>\n",
       "      <td>Bayes</td>\n",
       "      <td>3</td>\n",
       "      <td>2019-08-19</td>\n",
       "      <td>2020-01-30</td>\n",
       "      <td>DataSci</td>\n",
       "      <td>appendix</td>\n",
       "    </tr>\n",
       "    <tr>\n",
       "      <th>2019-08-22 09:40:29</th>\n",
       "      <td>appendix/interview_questions_students</td>\n",
       "      <td>97.105.19.58</td>\n",
       "      <td>473</td>\n",
       "      <td>Bayes</td>\n",
       "      <td>3</td>\n",
       "      <td>2019-08-19</td>\n",
       "      <td>2020-01-30</td>\n",
       "      <td>DataSci</td>\n",
       "      <td>appendix</td>\n",
       "    </tr>\n",
       "    <tr>\n",
       "      <th>2019-08-23 08:21:37</th>\n",
       "      <td>appendix/cli-git-overview</td>\n",
       "      <td>97.105.19.58</td>\n",
       "      <td>470</td>\n",
       "      <td>Bayes</td>\n",
       "      <td>3</td>\n",
       "      <td>2019-08-19</td>\n",
       "      <td>2020-01-30</td>\n",
       "      <td>DataSci</td>\n",
       "      <td>appendix</td>\n",
       "    </tr>\n",
       "    <tr>\n",
       "      <th>2019-08-23 16:39:09</th>\n",
       "      <td>appendix/cli-git-overview</td>\n",
       "      <td>97.105.19.58</td>\n",
       "      <td>470</td>\n",
       "      <td>Bayes</td>\n",
       "      <td>3</td>\n",
       "      <td>2019-08-19</td>\n",
       "      <td>2020-01-30</td>\n",
       "      <td>DataSci</td>\n",
       "      <td>appendix</td>\n",
       "    </tr>\n",
       "    <tr>\n",
       "      <th>...</th>\n",
       "      <td>...</td>\n",
       "      <td>...</td>\n",
       "      <td>...</td>\n",
       "      <td>...</td>\n",
       "      <td>...</td>\n",
       "      <td>...</td>\n",
       "      <td>...</td>\n",
       "      <td>...</td>\n",
       "      <td>...</td>\n",
       "    </tr>\n",
       "    <tr>\n",
       "      <th>2021-04-20 19:06:59</th>\n",
       "      <td>appendix/professional-development/t-block-less...</td>\n",
       "      <td>185.247.70.173</td>\n",
       "      <td>580</td>\n",
       "      <td>Curie</td>\n",
       "      <td>3</td>\n",
       "      <td>2020-02-03</td>\n",
       "      <td>2020-07-07</td>\n",
       "      <td>DataSci</td>\n",
       "      <td>appendix</td>\n",
       "    </tr>\n",
       "    <tr>\n",
       "      <th>2021-04-20 21:18:22</th>\n",
       "      <td>appendix/postwork</td>\n",
       "      <td>148.66.39.72</td>\n",
       "      <td>845</td>\n",
       "      <td>Easley</td>\n",
       "      <td>3</td>\n",
       "      <td>2020-12-07</td>\n",
       "      <td>2021-06-08</td>\n",
       "      <td>DataSci</td>\n",
       "      <td>appendix</td>\n",
       "    </tr>\n",
       "    <tr>\n",
       "      <th>2021-04-20 21:18:26</th>\n",
       "      <td>appendix/ds-environment-setup</td>\n",
       "      <td>148.66.39.72</td>\n",
       "      <td>845</td>\n",
       "      <td>Easley</td>\n",
       "      <td>3</td>\n",
       "      <td>2020-12-07</td>\n",
       "      <td>2021-06-08</td>\n",
       "      <td>DataSci</td>\n",
       "      <td>appendix</td>\n",
       "    </tr>\n",
       "    <tr>\n",
       "      <th>2021-04-21 08:30:37</th>\n",
       "      <td>appendix/professional-development/vertical-resume</td>\n",
       "      <td>172.58.111.66</td>\n",
       "      <td>843</td>\n",
       "      <td>Easley</td>\n",
       "      <td>3</td>\n",
       "      <td>2020-12-07</td>\n",
       "      <td>2021-06-08</td>\n",
       "      <td>DataSci</td>\n",
       "      <td>appendix</td>\n",
       "    </tr>\n",
       "    <tr>\n",
       "      <th>2021-04-21 10:54:33</th>\n",
       "      <td>appendix/professional-development/t-block-less...</td>\n",
       "      <td>99.158.249.67</td>\n",
       "      <td>838</td>\n",
       "      <td>Easley</td>\n",
       "      <td>3</td>\n",
       "      <td>2020-12-07</td>\n",
       "      <td>2021-06-08</td>\n",
       "      <td>DataSci</td>\n",
       "      <td>appendix</td>\n",
       "    </tr>\n",
       "  </tbody>\n",
       "</table>\n",
       "<p>3944 rows × 9 columns</p>\n",
       "</div>"
      ],
      "text/plain": [
       "                                                                  path  \\\n",
       "2019-08-20 09:40:50                          appendix/cli-git-overview   \n",
       "2019-08-21 13:55:51                          appendix/cli-git-overview   \n",
       "2019-08-22 09:40:29              appendix/interview_questions_students   \n",
       "2019-08-23 08:21:37                          appendix/cli-git-overview   \n",
       "2019-08-23 16:39:09                          appendix/cli-git-overview   \n",
       "...                                                                ...   \n",
       "2021-04-20 19:06:59  appendix/professional-development/t-block-less...   \n",
       "2021-04-20 21:18:22                                  appendix/postwork   \n",
       "2021-04-20 21:18:26                      appendix/ds-environment-setup   \n",
       "2021-04-21 08:30:37  appendix/professional-development/vertical-resume   \n",
       "2021-04-21 10:54:33  appendix/professional-development/t-block-less...   \n",
       "\n",
       "                                 ip  user_id    name  program_id  start_date  \\\n",
       "2019-08-20 09:40:50    97.105.19.58      479   Bayes           3  2019-08-19   \n",
       "2019-08-21 13:55:51    97.105.19.58      467   Bayes           3  2019-08-19   \n",
       "2019-08-22 09:40:29    97.105.19.58      473   Bayes           3  2019-08-19   \n",
       "2019-08-23 08:21:37    97.105.19.58      470   Bayes           3  2019-08-19   \n",
       "2019-08-23 16:39:09    97.105.19.58      470   Bayes           3  2019-08-19   \n",
       "...                             ...      ...     ...         ...         ...   \n",
       "2021-04-20 19:06:59  185.247.70.173      580   Curie           3  2020-02-03   \n",
       "2021-04-20 21:18:22    148.66.39.72      845  Easley           3  2020-12-07   \n",
       "2021-04-20 21:18:26    148.66.39.72      845  Easley           3  2020-12-07   \n",
       "2021-04-21 08:30:37   172.58.111.66      843  Easley           3  2020-12-07   \n",
       "2021-04-21 10:54:33   99.158.249.67      838  Easley           3  2020-12-07   \n",
       "\n",
       "                       end_date program_name    module  \n",
       "2019-08-20 09:40:50  2020-01-30      DataSci  appendix  \n",
       "2019-08-21 13:55:51  2020-01-30      DataSci  appendix  \n",
       "2019-08-22 09:40:29  2020-01-30      DataSci  appendix  \n",
       "2019-08-23 08:21:37  2020-01-30      DataSci  appendix  \n",
       "2019-08-23 16:39:09  2020-01-30      DataSci  appendix  \n",
       "...                         ...          ...       ...  \n",
       "2021-04-20 19:06:59  2020-07-07      DataSci  appendix  \n",
       "2021-04-20 21:18:22  2021-06-08      DataSci  appendix  \n",
       "2021-04-20 21:18:26  2021-06-08      DataSci  appendix  \n",
       "2021-04-21 08:30:37  2021-06-08      DataSci  appendix  \n",
       "2021-04-21 10:54:33  2021-06-08      DataSci  appendix  \n",
       "\n",
       "[3944 rows x 9 columns]"
      ]
     },
     "execution_count": 45,
     "metadata": {},
     "output_type": "execute_result"
    }
   ],
   "source": [
    "# look at appendix pages\n",
    "ds[ds.module == 'appendix']"
   ]
  },
  {
   "cell_type": "markdown",
   "id": "af5ea592",
   "metadata": {},
   "source": [
    "I'm more interested in what is being looked at within the appendix than just the fact that the appendix was being looked at so I want to re-label these rows."
   ]
  },
  {
   "cell_type": "code",
   "execution_count": 47,
   "id": "07468bd0",
   "metadata": {},
   "outputs": [],
   "source": [
    "import numpy as np"
   ]
  },
  {
   "cell_type": "code",
   "execution_count": 50,
   "id": "cdddf318",
   "metadata": {},
   "outputs": [
    {
     "ename": "ValueError",
     "evalue": "operands could not be broadcast together with shapes (103411,) (9,) (103411,) ",
     "output_type": "error",
     "traceback": [
      "\u001b[0;31m---------------------------------------------------------------------------\u001b[0m",
      "\u001b[0;31mValueError\u001b[0m                                Traceback (most recent call last)",
      "\u001b[0;32m<ipython-input-50-177af8298489>\u001b[0m in \u001b[0;36m<module>\u001b[0;34m\u001b[0m\n\u001b[0;32m----> 1\u001b[0;31m \u001b[0mnp\u001b[0m\u001b[0;34m.\u001b[0m\u001b[0mwhere\u001b[0m\u001b[0;34m(\u001b[0m\u001b[0mds\u001b[0m\u001b[0;34m.\u001b[0m\u001b[0mmodule\u001b[0m \u001b[0;34m==\u001b[0m \u001b[0;34m'appendix'\u001b[0m\u001b[0;34m,\u001b[0m \u001b[0;34m[\u001b[0m\u001b[0mlst\u001b[0m\u001b[0;34m[\u001b[0m\u001b[0;36m1\u001b[0m\u001b[0;34m]\u001b[0m \u001b[0;32mfor\u001b[0m \u001b[0mlst\u001b[0m \u001b[0;32min\u001b[0m \u001b[0mds\u001b[0m\u001b[0;34m[\u001b[0m\u001b[0mds\u001b[0m\u001b[0;34m.\u001b[0m\u001b[0mmodule\u001b[0m \u001b[0;34m==\u001b[0m \u001b[0;34m'appendix'\u001b[0m\u001b[0;34m]\u001b[0m\u001b[0;34m]\u001b[0m\u001b[0;34m,\u001b[0m \u001b[0mds\u001b[0m\u001b[0;34m.\u001b[0m\u001b[0mmodule\u001b[0m\u001b[0;34m)\u001b[0m\u001b[0;34m\u001b[0m\u001b[0;34m\u001b[0m\u001b[0m\n\u001b[0m",
      "\u001b[0;32m<__array_function__ internals>\u001b[0m in \u001b[0;36mwhere\u001b[0;34m(*args, **kwargs)\u001b[0m\n",
      "\u001b[0;31mValueError\u001b[0m: operands could not be broadcast together with shapes (103411,) (9,) (103411,) "
     ]
    }
   ],
   "source": [
    "np.where(ds.module == 'appendix', [lst[1] for lst in ds[ds.module == 'appendix']], ds.module)"
   ]
  },
  {
   "cell_type": "code",
   "execution_count": 33,
   "id": "4164c623",
   "metadata": {},
   "outputs": [
    {
     "data": {
      "text/plain": [
       "content         6397\n",
       "javascript-i    3708\n",
       "html-css        2463\n",
       "spring          2324\n",
       "mysql           2067\n",
       "java-iii        1953\n",
       "                1681\n",
       "java-ii         1572\n",
       "jquery          1526\n",
       "java-i          1456\n",
       "Name: module, dtype: int64"
      ]
     },
     "execution_count": 33,
     "metadata": {},
     "output_type": "execute_result"
    }
   ],
   "source": [
    "# view top 10 most accessed modules for php\n",
    "php.module.value_counts().head(10)"
   ]
  },
  {
   "cell_type": "code",
   "execution_count": 43,
   "id": "6b81bf40",
   "metadata": {},
   "outputs": [
    {
     "data": {
      "text/html": [
       "<div>\n",
       "<style scoped>\n",
       "    .dataframe tbody tr th:only-of-type {\n",
       "        vertical-align: middle;\n",
       "    }\n",
       "\n",
       "    .dataframe tbody tr th {\n",
       "        vertical-align: top;\n",
       "    }\n",
       "\n",
       "    .dataframe thead th {\n",
       "        text-align: right;\n",
       "    }\n",
       "</style>\n",
       "<table border=\"1\" class=\"dataframe\">\n",
       "  <thead>\n",
       "    <tr style=\"text-align: right;\">\n",
       "      <th></th>\n",
       "      <th>path</th>\n",
       "      <th>ip</th>\n",
       "      <th>user_id</th>\n",
       "      <th>name</th>\n",
       "      <th>program_id</th>\n",
       "      <th>start_date</th>\n",
       "      <th>end_date</th>\n",
       "      <th>program_name</th>\n",
       "      <th>module</th>\n",
       "    </tr>\n",
       "  </thead>\n",
       "  <tbody>\n",
       "    <tr>\n",
       "      <th>2018-01-26 12:38:12</th>\n",
       "      <td>content/javascript/objects/math.html</td>\n",
       "      <td>192.171.117.210</td>\n",
       "      <td>37</td>\n",
       "      <td>Quincy</td>\n",
       "      <td>1</td>\n",
       "      <td>2017-06-05</td>\n",
       "      <td>2017-09-22</td>\n",
       "      <td>WebDev-PHP</td>\n",
       "      <td>content</td>\n",
       "    </tr>\n",
       "    <tr>\n",
       "      <th>2018-01-26 12:38:19</th>\n",
       "      <td>content/laravel/quickstart/sessions.html</td>\n",
       "      <td>192.171.117.210</td>\n",
       "      <td>37</td>\n",
       "      <td>Quincy</td>\n",
       "      <td>1</td>\n",
       "      <td>2017-06-05</td>\n",
       "      <td>2017-09-22</td>\n",
       "      <td>WebDev-PHP</td>\n",
       "      <td>content</td>\n",
       "    </tr>\n",
       "    <tr>\n",
       "      <th>2018-01-27 07:27:52</th>\n",
       "      <td>content/mysql/intro-to-mysql/users.html</td>\n",
       "      <td>72.179.161.39</td>\n",
       "      <td>51</td>\n",
       "      <td>Kings</td>\n",
       "      <td>1</td>\n",
       "      <td>2016-05-23</td>\n",
       "      <td>2016-09-15</td>\n",
       "      <td>WebDev-PHP</td>\n",
       "      <td>content</td>\n",
       "    </tr>\n",
       "    <tr>\n",
       "      <th>2018-01-27 07:28:04</th>\n",
       "      <td>content/html-css</td>\n",
       "      <td>72.179.161.39</td>\n",
       "      <td>51</td>\n",
       "      <td>Kings</td>\n",
       "      <td>1</td>\n",
       "      <td>2016-05-23</td>\n",
       "      <td>2016-09-15</td>\n",
       "      <td>WebDev-PHP</td>\n",
       "      <td>content</td>\n",
       "    </tr>\n",
       "    <tr>\n",
       "      <th>2018-01-27 07:28:09</th>\n",
       "      <td>content/html-css/elements.html</td>\n",
       "      <td>72.179.161.39</td>\n",
       "      <td>51</td>\n",
       "      <td>Kings</td>\n",
       "      <td>1</td>\n",
       "      <td>2016-05-23</td>\n",
       "      <td>2016-09-15</td>\n",
       "      <td>WebDev-PHP</td>\n",
       "      <td>content</td>\n",
       "    </tr>\n",
       "    <tr>\n",
       "      <th>...</th>\n",
       "      <td>...</td>\n",
       "      <td>...</td>\n",
       "      <td>...</td>\n",
       "      <td>...</td>\n",
       "      <td>...</td>\n",
       "      <td>...</td>\n",
       "      <td>...</td>\n",
       "      <td>...</td>\n",
       "      <td>...</td>\n",
       "    </tr>\n",
       "    <tr>\n",
       "      <th>2021-04-10 00:20:55</th>\n",
       "      <td>content/javascript/conditionals.html</td>\n",
       "      <td>72.179.168.148</td>\n",
       "      <td>51</td>\n",
       "      <td>Kings</td>\n",
       "      <td>1</td>\n",
       "      <td>2016-05-23</td>\n",
       "      <td>2016-09-15</td>\n",
       "      <td>WebDev-PHP</td>\n",
       "      <td>content</td>\n",
       "    </tr>\n",
       "    <tr>\n",
       "      <th>2021-04-10 00:21:15</th>\n",
       "      <td>content/javascript/loops.html</td>\n",
       "      <td>72.179.168.148</td>\n",
       "      <td>51</td>\n",
       "      <td>Kings</td>\n",
       "      <td>1</td>\n",
       "      <td>2016-05-23</td>\n",
       "      <td>2016-09-15</td>\n",
       "      <td>WebDev-PHP</td>\n",
       "      <td>content</td>\n",
       "    </tr>\n",
       "    <tr>\n",
       "      <th>2021-04-10 00:28:10</th>\n",
       "      <td>content/javascript/javascript-with-html.html</td>\n",
       "      <td>136.50.29.193</td>\n",
       "      <td>80</td>\n",
       "      <td>Lassen</td>\n",
       "      <td>1</td>\n",
       "      <td>2016-07-18</td>\n",
       "      <td>2016-11-10</td>\n",
       "      <td>WebDev-PHP</td>\n",
       "      <td>content</td>\n",
       "    </tr>\n",
       "    <tr>\n",
       "      <th>2021-04-10 00:28:11</th>\n",
       "      <td>content/javascript/conditionals.html</td>\n",
       "      <td>136.50.29.193</td>\n",
       "      <td>80</td>\n",
       "      <td>Lassen</td>\n",
       "      <td>1</td>\n",
       "      <td>2016-07-18</td>\n",
       "      <td>2016-11-10</td>\n",
       "      <td>WebDev-PHP</td>\n",
       "      <td>content</td>\n",
       "    </tr>\n",
       "    <tr>\n",
       "      <th>2021-04-10 00:28:11</th>\n",
       "      <td>content/javascript/gitbook/images/favicon.ico</td>\n",
       "      <td>136.50.29.193</td>\n",
       "      <td>80</td>\n",
       "      <td>Lassen</td>\n",
       "      <td>1</td>\n",
       "      <td>2016-07-18</td>\n",
       "      <td>2016-11-10</td>\n",
       "      <td>WebDev-PHP</td>\n",
       "      <td>content</td>\n",
       "    </tr>\n",
       "  </tbody>\n",
       "</table>\n",
       "<p>6397 rows × 9 columns</p>\n",
       "</div>"
      ],
      "text/plain": [
       "                                                              path  \\\n",
       "2018-01-26 12:38:12           content/javascript/objects/math.html   \n",
       "2018-01-26 12:38:19       content/laravel/quickstart/sessions.html   \n",
       "2018-01-27 07:27:52        content/mysql/intro-to-mysql/users.html   \n",
       "2018-01-27 07:28:04                               content/html-css   \n",
       "2018-01-27 07:28:09                 content/html-css/elements.html   \n",
       "...                                                            ...   \n",
       "2021-04-10 00:20:55           content/javascript/conditionals.html   \n",
       "2021-04-10 00:21:15                  content/javascript/loops.html   \n",
       "2021-04-10 00:28:10   content/javascript/javascript-with-html.html   \n",
       "2021-04-10 00:28:11           content/javascript/conditionals.html   \n",
       "2021-04-10 00:28:11  content/javascript/gitbook/images/favicon.ico   \n",
       "\n",
       "                                  ip  user_id    name  program_id  start_date  \\\n",
       "2018-01-26 12:38:12  192.171.117.210       37  Quincy           1  2017-06-05   \n",
       "2018-01-26 12:38:19  192.171.117.210       37  Quincy           1  2017-06-05   \n",
       "2018-01-27 07:27:52    72.179.161.39       51   Kings           1  2016-05-23   \n",
       "2018-01-27 07:28:04    72.179.161.39       51   Kings           1  2016-05-23   \n",
       "2018-01-27 07:28:09    72.179.161.39       51   Kings           1  2016-05-23   \n",
       "...                              ...      ...     ...         ...         ...   \n",
       "2021-04-10 00:20:55   72.179.168.148       51   Kings           1  2016-05-23   \n",
       "2021-04-10 00:21:15   72.179.168.148       51   Kings           1  2016-05-23   \n",
       "2021-04-10 00:28:10    136.50.29.193       80  Lassen           1  2016-07-18   \n",
       "2021-04-10 00:28:11    136.50.29.193       80  Lassen           1  2016-07-18   \n",
       "2021-04-10 00:28:11    136.50.29.193       80  Lassen           1  2016-07-18   \n",
       "\n",
       "                       end_date program_name   module  \n",
       "2018-01-26 12:38:12  2017-09-22   WebDev-PHP  content  \n",
       "2018-01-26 12:38:19  2017-09-22   WebDev-PHP  content  \n",
       "2018-01-27 07:27:52  2016-09-15   WebDev-PHP  content  \n",
       "2018-01-27 07:28:04  2016-09-15   WebDev-PHP  content  \n",
       "2018-01-27 07:28:09  2016-09-15   WebDev-PHP  content  \n",
       "...                         ...          ...      ...  \n",
       "2021-04-10 00:20:55  2016-09-15   WebDev-PHP  content  \n",
       "2021-04-10 00:21:15  2016-09-15   WebDev-PHP  content  \n",
       "2021-04-10 00:28:10  2016-11-10   WebDev-PHP  content  \n",
       "2021-04-10 00:28:11  2016-11-10   WebDev-PHP  content  \n",
       "2021-04-10 00:28:11  2016-11-10   WebDev-PHP  content  \n",
       "\n",
       "[6397 rows x 9 columns]"
      ]
     },
     "execution_count": 43,
     "metadata": {},
     "output_type": "execute_result"
    }
   ],
   "source": [
    "# look at logs for 'content'\n",
    "php[php.module == 'content']"
   ]
  },
  {
   "cell_type": "code",
   "execution_count": 34,
   "id": "ce7da3a6",
   "metadata": {},
   "outputs": [
    {
     "data": {
      "text/plain": [
       "javascript-i     103817\n",
       "html-css          73679\n",
       "mysql             71665\n",
       "jquery            52554\n",
       "java-iii          47857\n",
       "spring            47583\n",
       "java-ii           47126\n",
       "java-i            35611\n",
       "javascript-ii     33418\n",
       "                  29474\n",
       "Name: module, dtype: int64"
      ]
     },
     "execution_count": 34,
     "metadata": {},
     "output_type": "execute_result"
    }
   ],
   "source": [
    "# view top 10 most accessed modules for java\n",
    "java.module.value_counts().head(10)"
   ]
  },
  {
   "cell_type": "code",
   "execution_count": 36,
   "id": "753d5429",
   "metadata": {},
   "outputs": [
    {
     "data": {
      "text/plain": [
       "13"
      ]
     },
     "execution_count": 36,
     "metadata": {},
     "output_type": "execute_result"
    }
   ],
   "source": [
    "len(php.name.value_counts())"
   ]
  },
  {
   "cell_type": "code",
   "execution_count": 37,
   "id": "57a443e6",
   "metadata": {},
   "outputs": [
    {
     "data": {
      "text/plain": [
       "27"
      ]
     },
     "execution_count": 37,
     "metadata": {},
     "output_type": "execute_result"
    }
   ],
   "source": [
    "len(java.name.value_counts())"
   ]
  },
  {
   "cell_type": "code",
   "execution_count": 38,
   "id": "a928874a",
   "metadata": {},
   "outputs": [
    {
     "data": {
      "text/plain": [
       "5"
      ]
     },
     "execution_count": 38,
     "metadata": {},
     "output_type": "execute_result"
    }
   ],
   "source": [
    "len(ds.name.value_counts())"
   ]
  },
  {
   "cell_type": "code",
   "execution_count": 42,
   "id": "0ec2f372",
   "metadata": {},
   "outputs": [
    {
     "data": {
      "text/plain": [
       "1"
      ]
     },
     "execution_count": 42,
     "metadata": {},
     "output_type": "execute_result"
    }
   ],
   "source": [
    "len(frontend.name.value_counts())"
   ]
  },
  {
   "cell_type": "code",
   "execution_count": 39,
   "id": "8e789fde",
   "metadata": {},
   "outputs": [
    {
     "data": {
      "text/plain": [
       "46"
      ]
     },
     "execution_count": 39,
     "metadata": {},
     "output_type": "execute_result"
    }
   ],
   "source": [
    "len(student_logs.name.value_counts())"
   ]
  },
  {
   "cell_type": "code",
   "execution_count": 40,
   "id": "5df81a40",
   "metadata": {},
   "outputs": [
    {
     "data": {
      "text/html": [
       "<div>\n",
       "<style scoped>\n",
       "    .dataframe tbody tr th:only-of-type {\n",
       "        vertical-align: middle;\n",
       "    }\n",
       "\n",
       "    .dataframe tbody tr th {\n",
       "        vertical-align: top;\n",
       "    }\n",
       "\n",
       "    .dataframe thead th {\n",
       "        text-align: right;\n",
       "    }\n",
       "</style>\n",
       "<table border=\"1\" class=\"dataframe\">\n",
       "  <thead>\n",
       "    <tr style=\"text-align: right;\">\n",
       "      <th></th>\n",
       "      <th>path</th>\n",
       "      <th>ip</th>\n",
       "      <th>user_id</th>\n",
       "      <th>name</th>\n",
       "      <th>program_id</th>\n",
       "      <th>start_date</th>\n",
       "      <th>end_date</th>\n",
       "      <th>program_name</th>\n",
       "      <th>module</th>\n",
       "    </tr>\n",
       "  </thead>\n",
       "  <tbody>\n",
       "    <tr>\n",
       "      <th>2018-01-26 09:55:03</th>\n",
       "      <td>/</td>\n",
       "      <td>97.105.19.61</td>\n",
       "      <td>1</td>\n",
       "      <td>Hampton</td>\n",
       "      <td>1</td>\n",
       "      <td>2015-09-22</td>\n",
       "      <td>2016-02-06</td>\n",
       "      <td>WebDev-PHP</td>\n",
       "      <td></td>\n",
       "    </tr>\n",
       "    <tr>\n",
       "      <th>2018-01-26 09:56:02</th>\n",
       "      <td>java-ii</td>\n",
       "      <td>97.105.19.61</td>\n",
       "      <td>1</td>\n",
       "      <td>Hampton</td>\n",
       "      <td>1</td>\n",
       "      <td>2015-09-22</td>\n",
       "      <td>2016-02-06</td>\n",
       "      <td>WebDev-PHP</td>\n",
       "      <td>java-ii</td>\n",
       "    </tr>\n",
       "    <tr>\n",
       "      <th>2018-01-26 09:56:05</th>\n",
       "      <td>java-ii/object-oriented-programming</td>\n",
       "      <td>97.105.19.61</td>\n",
       "      <td>1</td>\n",
       "      <td>Hampton</td>\n",
       "      <td>1</td>\n",
       "      <td>2015-09-22</td>\n",
       "      <td>2016-02-06</td>\n",
       "      <td>WebDev-PHP</td>\n",
       "      <td>java-ii</td>\n",
       "    </tr>\n",
       "    <tr>\n",
       "      <th>2018-01-26 09:56:06</th>\n",
       "      <td>slides/object_oriented_programming</td>\n",
       "      <td>97.105.19.61</td>\n",
       "      <td>1</td>\n",
       "      <td>Hampton</td>\n",
       "      <td>1</td>\n",
       "      <td>2015-09-22</td>\n",
       "      <td>2016-02-06</td>\n",
       "      <td>WebDev-PHP</td>\n",
       "      <td>slides</td>\n",
       "    </tr>\n",
       "    <tr>\n",
       "      <th>2018-01-26 09:56:24</th>\n",
       "      <td>javascript-i/conditionals</td>\n",
       "      <td>97.105.19.61</td>\n",
       "      <td>2</td>\n",
       "      <td>Teddy</td>\n",
       "      <td>2</td>\n",
       "      <td>2018-01-08</td>\n",
       "      <td>2018-05-17</td>\n",
       "      <td>WebDev-Java</td>\n",
       "      <td>javascript-i</td>\n",
       "    </tr>\n",
       "    <tr>\n",
       "      <th>...</th>\n",
       "      <td>...</td>\n",
       "      <td>...</td>\n",
       "      <td>...</td>\n",
       "      <td>...</td>\n",
       "      <td>...</td>\n",
       "      <td>...</td>\n",
       "      <td>...</td>\n",
       "      <td>...</td>\n",
       "      <td>...</td>\n",
       "    </tr>\n",
       "    <tr>\n",
       "      <th>2021-04-21 16:36:09</th>\n",
       "      <td>jquery/personal-site</td>\n",
       "      <td>136.50.98.51</td>\n",
       "      <td>869</td>\n",
       "      <td>Marco</td>\n",
       "      <td>2</td>\n",
       "      <td>2021-01-25</td>\n",
       "      <td>2021-07-19</td>\n",
       "      <td>WebDev-Java</td>\n",
       "      <td>jquery</td>\n",
       "    </tr>\n",
       "    <tr>\n",
       "      <th>2021-04-21 16:36:34</th>\n",
       "      <td>html-css/css-ii/bootstrap-grid-system</td>\n",
       "      <td>104.48.214.211</td>\n",
       "      <td>948</td>\n",
       "      <td>Neptune</td>\n",
       "      <td>2</td>\n",
       "      <td>2021-03-15</td>\n",
       "      <td>2021-09-03</td>\n",
       "      <td>WebDev-Java</td>\n",
       "      <td>html-css</td>\n",
       "    </tr>\n",
       "    <tr>\n",
       "      <th>2021-04-21 16:37:48</th>\n",
       "      <td>java-iii</td>\n",
       "      <td>67.11.50.23</td>\n",
       "      <td>834</td>\n",
       "      <td>Luna</td>\n",
       "      <td>2</td>\n",
       "      <td>2020-12-07</td>\n",
       "      <td>2021-06-08</td>\n",
       "      <td>WebDev-Java</td>\n",
       "      <td>java-iii</td>\n",
       "    </tr>\n",
       "    <tr>\n",
       "      <th>2021-04-21 16:38:14</th>\n",
       "      <td>java-iii/servlets</td>\n",
       "      <td>67.11.50.23</td>\n",
       "      <td>834</td>\n",
       "      <td>Luna</td>\n",
       "      <td>2</td>\n",
       "      <td>2020-12-07</td>\n",
       "      <td>2021-06-08</td>\n",
       "      <td>WebDev-Java</td>\n",
       "      <td>java-iii</td>\n",
       "    </tr>\n",
       "    <tr>\n",
       "      <th>2021-04-21 16:41:51</th>\n",
       "      <td>javascript-i/bom-and-dom/dom</td>\n",
       "      <td>24.242.150.231</td>\n",
       "      <td>875</td>\n",
       "      <td>Marco</td>\n",
       "      <td>2</td>\n",
       "      <td>2021-01-25</td>\n",
       "      <td>2021-07-19</td>\n",
       "      <td>WebDev-Java</td>\n",
       "      <td>javascript-i</td>\n",
       "    </tr>\n",
       "  </tbody>\n",
       "</table>\n",
       "<p>763298 rows × 9 columns</p>\n",
       "</div>"
      ],
      "text/plain": [
       "                                                      path              ip  \\\n",
       "2018-01-26 09:55:03                                      /    97.105.19.61   \n",
       "2018-01-26 09:56:02                                java-ii    97.105.19.61   \n",
       "2018-01-26 09:56:05    java-ii/object-oriented-programming    97.105.19.61   \n",
       "2018-01-26 09:56:06     slides/object_oriented_programming    97.105.19.61   \n",
       "2018-01-26 09:56:24              javascript-i/conditionals    97.105.19.61   \n",
       "...                                                    ...             ...   \n",
       "2021-04-21 16:36:09                   jquery/personal-site    136.50.98.51   \n",
       "2021-04-21 16:36:34  html-css/css-ii/bootstrap-grid-system  104.48.214.211   \n",
       "2021-04-21 16:37:48                               java-iii     67.11.50.23   \n",
       "2021-04-21 16:38:14                      java-iii/servlets     67.11.50.23   \n",
       "2021-04-21 16:41:51           javascript-i/bom-and-dom/dom  24.242.150.231   \n",
       "\n",
       "                     user_id     name  program_id  start_date    end_date  \\\n",
       "2018-01-26 09:55:03        1  Hampton           1  2015-09-22  2016-02-06   \n",
       "2018-01-26 09:56:02        1  Hampton           1  2015-09-22  2016-02-06   \n",
       "2018-01-26 09:56:05        1  Hampton           1  2015-09-22  2016-02-06   \n",
       "2018-01-26 09:56:06        1  Hampton           1  2015-09-22  2016-02-06   \n",
       "2018-01-26 09:56:24        2    Teddy           2  2018-01-08  2018-05-17   \n",
       "...                      ...      ...         ...         ...         ...   \n",
       "2021-04-21 16:36:09      869    Marco           2  2021-01-25  2021-07-19   \n",
       "2021-04-21 16:36:34      948  Neptune           2  2021-03-15  2021-09-03   \n",
       "2021-04-21 16:37:48      834     Luna           2  2020-12-07  2021-06-08   \n",
       "2021-04-21 16:38:14      834     Luna           2  2020-12-07  2021-06-08   \n",
       "2021-04-21 16:41:51      875    Marco           2  2021-01-25  2021-07-19   \n",
       "\n",
       "                    program_name        module  \n",
       "2018-01-26 09:55:03   WebDev-PHP                \n",
       "2018-01-26 09:56:02   WebDev-PHP       java-ii  \n",
       "2018-01-26 09:56:05   WebDev-PHP       java-ii  \n",
       "2018-01-26 09:56:06   WebDev-PHP        slides  \n",
       "2018-01-26 09:56:24  WebDev-Java  javascript-i  \n",
       "...                          ...           ...  \n",
       "2021-04-21 16:36:09  WebDev-Java        jquery  \n",
       "2021-04-21 16:36:34  WebDev-Java      html-css  \n",
       "2021-04-21 16:37:48  WebDev-Java      java-iii  \n",
       "2021-04-21 16:38:14  WebDev-Java      java-iii  \n",
       "2021-04-21 16:41:51  WebDev-Java  javascript-i  \n",
       "\n",
       "[763298 rows x 9 columns]"
      ]
     },
     "execution_count": 40,
     "metadata": {},
     "output_type": "execute_result"
    }
   ],
   "source": [
    "student_logs"
   ]
  },
  {
   "cell_type": "code",
   "execution_count": 35,
   "id": "4b03fa2f",
   "metadata": {},
   "outputs": [
    {
     "data": {
      "text/html": [
       "<div>\n",
       "<style scoped>\n",
       "    .dataframe tbody tr th:only-of-type {\n",
       "        vertical-align: middle;\n",
       "    }\n",
       "\n",
       "    .dataframe tbody tr th {\n",
       "        vertical-align: top;\n",
       "    }\n",
       "\n",
       "    .dataframe thead th {\n",
       "        text-align: right;\n",
       "    }\n",
       "</style>\n",
       "<table border=\"1\" class=\"dataframe\">\n",
       "  <thead>\n",
       "    <tr style=\"text-align: right;\">\n",
       "      <th></th>\n",
       "      <th>path</th>\n",
       "      <th>ip</th>\n",
       "      <th>user_id</th>\n",
       "      <th>name</th>\n",
       "      <th>program_id</th>\n",
       "      <th>start_date</th>\n",
       "      <th>end_date</th>\n",
       "      <th>program_name</th>\n",
       "      <th>module</th>\n",
       "    </tr>\n",
       "  </thead>\n",
       "  <tbody>\n",
       "    <tr>\n",
       "      <th>2018-01-26 09:55:03</th>\n",
       "      <td>/</td>\n",
       "      <td>97.105.19.61</td>\n",
       "      <td>1</td>\n",
       "      <td>Hampton</td>\n",
       "      <td>1</td>\n",
       "      <td>2015-09-22</td>\n",
       "      <td>2016-02-06</td>\n",
       "      <td>WebDev-PHP</td>\n",
       "      <td></td>\n",
       "    </tr>\n",
       "    <tr>\n",
       "      <th>2018-01-26 09:56:02</th>\n",
       "      <td>java-ii</td>\n",
       "      <td>97.105.19.61</td>\n",
       "      <td>1</td>\n",
       "      <td>Hampton</td>\n",
       "      <td>1</td>\n",
       "      <td>2015-09-22</td>\n",
       "      <td>2016-02-06</td>\n",
       "      <td>WebDev-PHP</td>\n",
       "      <td>java-ii</td>\n",
       "    </tr>\n",
       "    <tr>\n",
       "      <th>2018-01-26 09:56:05</th>\n",
       "      <td>java-ii/object-oriented-programming</td>\n",
       "      <td>97.105.19.61</td>\n",
       "      <td>1</td>\n",
       "      <td>Hampton</td>\n",
       "      <td>1</td>\n",
       "      <td>2015-09-22</td>\n",
       "      <td>2016-02-06</td>\n",
       "      <td>WebDev-PHP</td>\n",
       "      <td>java-ii</td>\n",
       "    </tr>\n",
       "    <tr>\n",
       "      <th>2018-01-26 09:56:06</th>\n",
       "      <td>slides/object_oriented_programming</td>\n",
       "      <td>97.105.19.61</td>\n",
       "      <td>1</td>\n",
       "      <td>Hampton</td>\n",
       "      <td>1</td>\n",
       "      <td>2015-09-22</td>\n",
       "      <td>2016-02-06</td>\n",
       "      <td>WebDev-PHP</td>\n",
       "      <td>slides</td>\n",
       "    </tr>\n",
       "    <tr>\n",
       "      <th>2018-01-26 10:14:47</th>\n",
       "      <td>/</td>\n",
       "      <td>97.105.19.61</td>\n",
       "      <td>11</td>\n",
       "      <td>Arches</td>\n",
       "      <td>1</td>\n",
       "      <td>2014-02-04</td>\n",
       "      <td>2014-04-22</td>\n",
       "      <td>WebDev-PHP</td>\n",
       "      <td></td>\n",
       "    </tr>\n",
       "    <tr>\n",
       "      <th>...</th>\n",
       "      <td>...</td>\n",
       "      <td>...</td>\n",
       "      <td>...</td>\n",
       "      <td>...</td>\n",
       "      <td>...</td>\n",
       "      <td>...</td>\n",
       "      <td>...</td>\n",
       "      <td>...</td>\n",
       "      <td>...</td>\n",
       "    </tr>\n",
       "    <tr>\n",
       "      <th>2021-04-21 15:20:12</th>\n",
       "      <td>classification/classical_programming_vs_machin...</td>\n",
       "      <td>96.8.130.134</td>\n",
       "      <td>692</td>\n",
       "      <td>Darden</td>\n",
       "      <td>3</td>\n",
       "      <td>2020-07-13</td>\n",
       "      <td>2021-01-12</td>\n",
       "      <td>DataSci</td>\n",
       "      <td>classification</td>\n",
       "    </tr>\n",
       "    <tr>\n",
       "      <th>2021-04-21 15:20:12</th>\n",
       "      <td>classification/scale_features_or_not.svg</td>\n",
       "      <td>96.8.130.134</td>\n",
       "      <td>692</td>\n",
       "      <td>Darden</td>\n",
       "      <td>3</td>\n",
       "      <td>2020-07-13</td>\n",
       "      <td>2021-01-12</td>\n",
       "      <td>DataSci</td>\n",
       "      <td>classification</td>\n",
       "    </tr>\n",
       "    <tr>\n",
       "      <th>2021-04-21 15:20:14</th>\n",
       "      <td>classification/project</td>\n",
       "      <td>96.8.130.134</td>\n",
       "      <td>692</td>\n",
       "      <td>Darden</td>\n",
       "      <td>3</td>\n",
       "      <td>2020-07-13</td>\n",
       "      <td>2021-01-12</td>\n",
       "      <td>DataSci</td>\n",
       "      <td>classification</td>\n",
       "    </tr>\n",
       "    <tr>\n",
       "      <th>2021-04-21 15:20:18</th>\n",
       "      <td>classification/acquire</td>\n",
       "      <td>96.8.130.134</td>\n",
       "      <td>692</td>\n",
       "      <td>Darden</td>\n",
       "      <td>3</td>\n",
       "      <td>2020-07-13</td>\n",
       "      <td>2021-01-12</td>\n",
       "      <td>DataSci</td>\n",
       "      <td>classification</td>\n",
       "    </tr>\n",
       "    <tr>\n",
       "      <th>2021-04-21 16:30:30</th>\n",
       "      <td>appendix</td>\n",
       "      <td>172.125.226.175</td>\n",
       "      <td>771</td>\n",
       "      <td>Jupiter</td>\n",
       "      <td>2</td>\n",
       "      <td>2020-09-21</td>\n",
       "      <td>2021-03-30</td>\n",
       "      <td>WebDev-Java</td>\n",
       "      <td>appendix</td>\n",
       "    </tr>\n",
       "  </tbody>\n",
       "</table>\n",
       "<p>116101 rows × 9 columns</p>\n",
       "</div>"
      ],
      "text/plain": [
       "                                                                  path  \\\n",
       "2018-01-26 09:55:03                                                  /   \n",
       "2018-01-26 09:56:02                                            java-ii   \n",
       "2018-01-26 09:56:05                java-ii/object-oriented-programming   \n",
       "2018-01-26 09:56:06                 slides/object_oriented_programming   \n",
       "2018-01-26 10:14:47                                                  /   \n",
       "...                                                                ...   \n",
       "2021-04-21 15:20:12  classification/classical_programming_vs_machin...   \n",
       "2021-04-21 15:20:12           classification/scale_features_or_not.svg   \n",
       "2021-04-21 15:20:14                             classification/project   \n",
       "2021-04-21 15:20:18                             classification/acquire   \n",
       "2021-04-21 16:30:30                                           appendix   \n",
       "\n",
       "                                  ip  user_id     name  program_id  \\\n",
       "2018-01-26 09:55:03     97.105.19.61        1  Hampton           1   \n",
       "2018-01-26 09:56:02     97.105.19.61        1  Hampton           1   \n",
       "2018-01-26 09:56:05     97.105.19.61        1  Hampton           1   \n",
       "2018-01-26 09:56:06     97.105.19.61        1  Hampton           1   \n",
       "2018-01-26 10:14:47     97.105.19.61       11   Arches           1   \n",
       "...                              ...      ...      ...         ...   \n",
       "2021-04-21 15:20:12     96.8.130.134      692   Darden           3   \n",
       "2021-04-21 15:20:12     96.8.130.134      692   Darden           3   \n",
       "2021-04-21 15:20:14     96.8.130.134      692   Darden           3   \n",
       "2021-04-21 15:20:18     96.8.130.134      692   Darden           3   \n",
       "2021-04-21 16:30:30  172.125.226.175      771  Jupiter           2   \n",
       "\n",
       "                     start_date    end_date program_name          module  \n",
       "2018-01-26 09:55:03  2015-09-22  2016-02-06   WebDev-PHP                  \n",
       "2018-01-26 09:56:02  2015-09-22  2016-02-06   WebDev-PHP         java-ii  \n",
       "2018-01-26 09:56:05  2015-09-22  2016-02-06   WebDev-PHP         java-ii  \n",
       "2018-01-26 09:56:06  2015-09-22  2016-02-06   WebDev-PHP          slides  \n",
       "2018-01-26 10:14:47  2014-02-04  2014-04-22   WebDev-PHP                  \n",
       "...                         ...         ...          ...             ...  \n",
       "2021-04-21 15:20:12  2020-07-13  2021-01-12      DataSci  classification  \n",
       "2021-04-21 15:20:12  2020-07-13  2021-01-12      DataSci  classification  \n",
       "2021-04-21 15:20:14  2020-07-13  2021-01-12      DataSci  classification  \n",
       "2021-04-21 15:20:18  2020-07-13  2021-01-12      DataSci  classification  \n",
       "2021-04-21 16:30:30  2020-09-21  2021-03-30  WebDev-Java        appendix  \n",
       "\n",
       "[116101 rows x 9 columns]"
      ]
     },
     "execution_count": 35,
     "metadata": {},
     "output_type": "execute_result"
    }
   ],
   "source": [
    "# isolate student access logs after program end\n",
    "after_grad = student_logs[student_logs.end_date < student_logs.index]\n",
    "after_grad"
   ]
  }
 ],
 "metadata": {
  "kernelspec": {
   "display_name": "Python 3",
   "language": "python",
   "name": "python3"
  },
  "language_info": {
   "codemirror_mode": {
    "name": "ipython",
    "version": 3
   },
   "file_extension": ".py",
   "mimetype": "text/x-python",
   "name": "python",
   "nbconvert_exporter": "python",
   "pygments_lexer": "ipython3",
   "version": "3.8.8"
  }
 },
 "nbformat": 4,
 "nbformat_minor": 5
}
